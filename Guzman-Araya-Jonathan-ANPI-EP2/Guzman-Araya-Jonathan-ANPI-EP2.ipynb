{
 "cells": [
  {
   "cell_type": "markdown",
   "metadata": {
    "kernel": "SoS"
   },
   "source": [
    "<div style=\"text-align: center;\" role=\"presentation\">\n",
    "<h1 role=\"presentation\"><strong><span role=\"presentation\">An&aacute;lisis Num&eacute;rico para Ingenier&iacute;a - I Semestre 2020</span></strong></h1>"
   ]
  },
  {
   "cell_type": "markdown",
   "metadata": {
    "kernel": "SoS"
   },
   "source": [
    "<h1 style=\"text-align: center;\"><span style=\"color: #0000ff;\">Examen Programado #2</span></h1>"
   ]
  },
  {
   "cell_type": "markdown",
   "metadata": {
    "kernel": "SoS"
   },
   "source": [
    "<h3><span style=\"text-decoration: underline;\">Nombre:</span>&nbsp;Jonathan Guzm&aacute;n Araya</h3>\n",
    "<h3><span style=\"text-decoration: underline;\">Carnet:</span>&nbsp;2013041216</h3>"
   ]
  },
  {
   "cell_type": "markdown",
   "metadata": {
    "kernel": "SoS"
   },
   "source": [
    "<a id='tridiagonal'></a>\n",
    "<h2><span style=\"color: #993300;\"><span style=\"text-decoration: underline;\"><strong>Pregunta 1</strong></span></span></h2>"
   ]
  },
  {
   "cell_type": "markdown",
   "metadata": {
    "kernel": "SoS"
   },
   "source": [
    "<h3><strong>b) C&oacute;digo</strong></h3>"
   ]
  },
  {
   "cell_type": "code",
   "execution_count": null,
   "metadata": {
    "kernel": "Python 3"
   },
   "outputs": [],
   "source": [
    "def matriz(a, b, n):\n",
    "    matrix = []\n",
    "    if a != b and n >= 3:\n",
    "        for i in range(n):\n",
    "            fila = []\n",
    "            for j in range(n):\n",
    "                fila.append(min(a*(i+1) - b, a*(j+1) - b))\n",
    "            matrix.append(fila)\n",
    "        print(matrix)\n",
    "        return matrix\n",
    "    else:\n",
    "        return \"Error\"\n",
    "\n",
    "matriz(1, 0, 3)"
   ]
  },
  {
   "cell_type": "markdown",
   "metadata": {
    "kernel": "SoS"
   },
   "source": [
    "<a id='b'></a>\n",
    "<h2><span style=\"color: #993300;\"><span style=\"text-decoration: underline;\"><strong>Pregunta 2</strong></span></span></h2>"
   ]
  },
  {
   "cell_type": "markdown",
   "metadata": {
    "kernel": "SoS"
   },
   "source": [
    "<h3><strong>a) C&oacute;digo en GNU Python</strong></h3>"
   ]
  },
  {
   "cell_type": "code",
   "execution_count": null,
   "metadata": {
    "kernel": "Python 3"
   },
   "outputs": [],
   "source": [
    "def v_propios_m1(n):\n",
    "    dk = []\n",
    "    Xk = []\n",
    "    for k in range(n):\n",
    "        dk.append((1/2)*(1-np.cos(((2*k-1)*np.pi)/(2*n+1)))**-1)\n",
    "    for i in range(n):\n",
    "        xk = []\n",
    "        for j in range(n):\n",
    "            xk.append(np.sin(((j-1)*(((2*k-1)*np.pi)/(2*n+1))))\n",
    "        Xk.append(xk)\n",
    "    return dk, Xk\n",
    "\n",
    "v_propios_m1(3)\n",
    "print(\"---------------------\")       \n",
    "v_propios_m1(10)"
   ]
  },
  {
   "cell_type": "markdown",
   "metadata": {
    "kernel": "Python 3"
   },
   "source": [
    "<a id='c'></a>\n",
    "<h2><span style=\"color: #993300;\"><span style=\"text-decoration: underline;\"><strong>Pregunta 3</strong></span></span></h2>"
   ]
  },
  {
   "cell_type": "markdown",
   "metadata": {
    "kernel": "Python 3"
   },
   "source": [
    "<a id='d'></a>\n",
    "<h2><span style=\"color: #993300;\"><span style=\"text-decoration: underline;\"><strong>Pregunta 4:</strong></span></span></h2>"
   ]
  }
 ],
 "metadata": {
  "kernelspec": {
   "display_name": "SoS",
   "language": "sos",
   "name": "sos"
  },
  "language_info": {
   "codemirror_mode": "sos",
   "file_extension": ".sos",
   "mimetype": "text/x-sos",
   "name": "sos",
   "nbconvert_exporter": "sos_notebook.converter.SoS_Exporter",
   "pygments_lexer": "sos"
  },
  "sos": {
   "kernels": [
    [
     "Python 3",
     "python3",
     "python3",
     "",
     ""
    ]
   ],
   "panel": {
    "displayed": true,
    "height": 0
   },
   "version": "0.21.7"
  }
 },
 "nbformat": 4,
 "nbformat_minor": 2
}
