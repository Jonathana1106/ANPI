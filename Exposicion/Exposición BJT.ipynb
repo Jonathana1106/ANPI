{
 "cells": [
  {
   "cell_type": "markdown",
   "metadata": {
    "kernel": "SoS"
   },
   "source": [
    "## Exposicion ANPI\n",
    "### Darío Rodríguez Obando\n",
    "### Jonathan Guzmán Araya\n",
    "### Problema General a Resolver"
   ]
  },
  {
   "cell_type": "markdown",
   "metadata": {
    "kernel": "SoS"
   },
   "source": [
    "Un Transistor de Union Bipolar o BJT, es un componente electrónico, que funciona con diferentes concentraciones de sus áreas, y estas establecen el tipo de transitor que es, en este caso de estudiará un BJT tipo NPN.\\\n",
    "\\\n",
    "Existen varias formas de polarizar el transistor, de manera que su función cambia, se utilizará la region activa para su análisis.\\\n",
    "\\\n",
    "El transistor tiene 3 conexiones, donde sus corrientes varían dependiendo de su polarización y su diseño. Para realizar el diseño de Circuitos, se necesita conocer las corrientes de cada una de sus conexiones las cuales se nombran: Emisor, Base y Colector.\n",
    "<div>\n",
    "<img src=\"https://www.cdmxelectronica.com/wp-content/uploads/2N2222-NPN.png\" width=\"300\"/>\n",
    "</div>\n"
   ]
  },
  {
   "cell_type": "markdown",
   "metadata": {
    "kernel": "SoS"
   },
   "source": [
    "### Problema Matemático a Resolver\n"
   ]
  },
  {
   "cell_type": "markdown",
   "metadata": {
    "kernel": "SoS"
   },
   "source": [
    "Para calcular las corrientes, se necesitan los valores de fábrica de $I_{s}$, $\\beta$. Además, por estar en la región activa, se puede asumir $V_{BE}$ como $0.8$ v, y el valor de $V_{t}$ es $26mv$. \\\n",
    "\\\n",
    "Para la Corriente del colector, se utiliza la siguiente ecuación:\\\n",
    "\\\n",
    "$I_{C}= I_{s}⋅e^{V_{BE}/V_{t}}$\\\n",
    "\\\n",
    "$I_{B}= \\frac{I_{c}}{\\beta}$\\\n",
    "\\\n",
    "$I_{E}= \\frac{\\beta + 1}{\\beta} ⋅ I_{C}$\\\n",
    "El valor que se debe iterar es $V_{BE}$ debido a que se asume un valor inicial y se debe calcular el valor más exacto."
   ]
  },
  {
   "cell_type": "markdown",
   "metadata": {
    "kernel": "SoS"
   },
   "source": [
    "### Método numérico utilizado para resolver el problema\n",
    "\\\n",
    "Utilizamos el método de Newton-Raphson, para resolver el problema.\n",
    "\n",
    "### Pseudocódigo\n",
    "\n",
    "1) Se asume el valor de $V_{BE} = 0.8$ como un valor inicial para obtener el primer valor de $I_{C}$.\n",
    "\n",
    "2) Se calcula el valor de $I_{C}$  mediante la ecuación : $I_{C}= I_{s}⋅e^{V_{BE}/V_{t}}$.\n",
    "\n",
    "3) Del valor obtenido, se obtiene un $V_{BE}$ más cercano al valor real usando $V_{t}⋅ln(\\frac{I_{C}}{I_{S}})$\n",
    "\n",
    "4) Se vuelve a iterar las veces necesarias.\n"
   ]
  },
  {
   "cell_type": "code",
   "execution_count": 63,
   "metadata": {
    "kernel": "Octave"
   },
   "outputs": [
    {
     "name": "stdout",
     "output_type": "stream",
     "text": [
      "x =  0.00065455\n",
      "x =  0.00068845\n",
      "x =  0.00068785\n",
      "x =  0.00068786\n",
      "x =  0.00068786\n",
      "x =  0.00068786\n",
      "x =  0.00068786\n",
      "x =  0.00068786\n",
      "x =  0.00068786\n",
      "Vbe =  0.72670\n",
      "Ic =  0.00068786\n",
      "Ib =  0.0000068786\n",
      "Ie =  0.00069474\n",
      "no_iterations =  9\n"
     ]
    },
    {
     "data": {
      "image/png": "[encoded data removed]",
      "text/plain": [
       "<IPython.core.display.Image object>"
      ]
     },
     "metadata": {},
     "output_type": "display_data"
    }
   ],
   "source": [
    "function Newtons_method()\n",
    "    Is=5e-16;\n",
    "    Vbe=0.8;\n",
    "    f = @(x,Vbe) x*(10*((0.026/x)+200)+200)-(2.5-Vbe);\n",
    "    dfdx = 2200;\n",
    "    eps = 10e-100;\n",
    "    beta=100;\n",
    "    x0 = 0.001;\n",
    "    [Ic, no_iterations,Vbe] = Newton(f, dfdx, x0, eps,Is,Vbe,beta);\n",
    "end\n",
    "\n",
    "function [Ic, no_iterations,Vbe] = Newton(f, dfdx, x0, eps,Is,Vbe,beta)\n",
    "    x = x0;\n",
    "    f_value = f(x,Vbe);\n",
    "    iteration_counter = 1;\n",
    "    X_values = [];\n",
    "    while abs(f_value) > eps && iteration_counter < 10\n",
    "        x = x - (f_value)/dfdx\n",
    "        X_values=[X_values x];\n",
    "        Vbe=0.026*log(x/Is);\n",
    "        f_value = f(x,Vbe);\n",
    "        iteration_counter = iteration_counter + 1;\n",
    "    end\n",
    "    Vbe\n",
    "    Ic = x\n",
    "    Ib = Ic/beta\n",
    "    Ie = ((beta + 1)/beta)*Ic\n",
    "    no_iterations = iteration_counter -1\n",
    "    plot(1:no_iterations,X_values)\n",
    "\n",
    "end\n",
    "\n",
    "Newtons_method()"
   ]
  }
 ],
 "metadata": {
  "kernelspec": {
   "display_name": "SoS",
   "language": "sos",
   "name": "sos"
  },
  "language_info": {
   "codemirror_mode": "sos",
   "file_extension": ".sos",
   "mimetype": "text/x-sos",
   "name": "sos",
   "nbconvert_exporter": "sos_notebook.converter.SoS_Exporter",
   "pygments_lexer": "sos"
  },
  "sos": {
   "kernels": [
    [
     "Octave",
     "octave",
     "octave",
     "",
     ""
    ]
   ],
   "panel": {
    "displayed": true,
    "height": 0
   },
   "version": "0.21.7"
  }
 },
 "nbformat": 4,
 "nbformat_minor": 4
}
