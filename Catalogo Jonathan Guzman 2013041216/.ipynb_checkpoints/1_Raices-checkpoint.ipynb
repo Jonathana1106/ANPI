{
 "cells": [
  {
   "cell_type": "markdown",
   "metadata": {
    "kernel": "SoS"
   },
   "source": [
    "<h1 style=\"text-align: center;\"><strong>1. Soluci&oacute;n de Ecuaciones No Lineales</strong></h1>"
   ]
  },
  {
   "cell_type": "markdown",
   "metadata": {
    "kernel": "python3"
   },
   "source": [
    "<h2 style=\"text-align: center;\"><span style=\"text-decoration: underline; color: #008080;\"><strong>Algoritmos</strong></span></h2>\n",
    "\n",
    "[<strong>M&eacute;todo 1: M&eacute;todo de la Bisecci&oacute;n</strong>](#biseccion)\n",
    "\n",
    "[<strong>M&eacute;todo 2: M&eacute;todo de Newton-Raphson</strong>](#newton)\n",
    "\n",
    "[<strong>M&eacute;todo 3: M&eacute;todo de la Secante</strong>](#secante)"
   ]
  },
  {
   "cell_type": "markdown",
   "metadata": {
    "kernel": "SoS"
   },
   "source": [
    "<a id='biseccion'></a>\n",
    "<h2><span style=\"color: #993300;\"><span style=\"text-decoration: underline;\"><strong>M&eacute;todo 1:</strong> M&eacute;todo de la Bisecci&oacute;n</span></span></h2>"
   ]
  },
  {
   "cell_type": "markdown",
   "metadata": {
    "kernel": "SoS"
   },
   "source": [
    "<h3><strong>a) Formulaci&oacute;n Matem&aacute;tica</strong></h3>"
   ]
  },
  {
   "cell_type": "markdown",
   "metadata": {
    "kernel": "SoS"
   },
   "source": [
    "El método de bisección, conocido también como de corte binario, de partición de intervalos o de Bolzano, es un tipo de búsqueda incremental en el que el intervalo se divide siempre a la mitad. Si la función cambia de signo sobre un intervalo, se evalúa el valor de la función en el punto medio. La posición de la raíz se determina situándola en el punto medio del subintervalo, dentro del cual ocurre un cambio de signo. El proceso se repite hasta obtener una mejor aproximación.\n",
    "\n",
    "En general, si $f(x)$ es real y continúa en el intervalo que va desde $xl$ hasta $xu$ y $f(xl)$ y $f(xu)$ tienen signos opuestos, es decir: \n",
    "                                                                $f(xl) f(xu) < 0$ \n",
    "entonces hay al menos una raíz real entre $xl$ y $xu$."
   ]
  },
  {
   "cell_type": "markdown",
   "metadata": {
    "kernel": "SoS"
   },
   "source": [
    "<h3><strong>b) Valores Iniciales</strong></h3>"
   ]
  },
  {
   "cell_type": "markdown",
   "metadata": {
    "kernel": "SoS"
   },
   "source": [
    "El método de bisección se basa en el Teorema de Bolzano, el cual afirma que si se tiene una función real $y=f(x)$ continua en el intervalo $]a,b[$ donde el signo de la función en el extremo $a$ es distinto al signo de la función en el extremo $b$ del intervalo, entonces existe al menos un $c∈]a,b[$ tal que $f(c)=0$, que es la raíz buscada."
   ]
  },
  {
   "cell_type": "markdown",
   "metadata": {
    "kernel": "SoS"
   },
   "source": [
    "<h3><strong>c) Ventajas y Desvantajas</strong></h3>"
   ]
  },
  {
   "cell_type": "markdown",
   "metadata": {
    "kernel": "SoS"
   },
   "source": [
    "<p><span style=\"text-decoration: underline;\"><span style=\"text-decoration: underline;\"><strong>Ventajas:</strong></span></span></p>\n",
    "<p>&nbsp; &nbsp; &nbsp; &nbsp; &nbsp;<span style=\"text-decoration: underline;\">1-</span> Es siempre convergente.</p>\n",
    "<p>&nbsp; &nbsp; &nbsp; &nbsp; &nbsp;<span style=\"text-decoration: underline;\">2-</span> Es óptimo para resolver una ecuación $f(x)=0$ cuando no se sabe nada de $f$, excepto calcular su signo. </p>\n",
    "<p>&nbsp; &nbsp; &nbsp; &nbsp; &nbsp;<span style=\"text-decoration: underline;\">3-</span> Requiere que $f$ sea continua en el intervalo especificado. </p>\n",
    "<p><span style=\"text-decoration: underline;\"><strong>Desventajas:</strong></span></p>\n",
    "<p>&nbsp; &nbsp; &nbsp; &nbsp; &nbsp;<span style=\"text-decoration: underline;\">1:</span> Converge muy lentamente. </p>\n",
    "<p>&nbsp; &nbsp; &nbsp; &nbsp; &nbsp;<span style=\"text-decoration: underline;\">2:</span> Permite encontrar solo una raíz, aunque existan más en el intervalo.</p>\n",
    "<p>&nbsp; &nbsp; &nbsp; &nbsp; &nbsp;<span style=\"text-decoration: underline;\">3:</span> No puede determinar raíces complejas. </p>"
   ]
  },
  {
   "cell_type": "markdown",
   "metadata": {
    "kernel": "SoS"
   },
   "source": [
    "<h3><strong>d) Pasos del m&eacute;todo (Pseudoc&oacute;digo)</strong></h3>"
   ]
  },
  {
   "cell_type": "markdown",
   "metadata": {
    "kernel": "SoS"
   },
   "source": [
    "Aca escribe los pasos necesarios de cada algoritmo. Se deben indicar los valores iniciales y los valores finales. Por ejemplo, estos son los pasos para resolver la operación $a(b+c)$\n",
    "\n",
    "<div class=\"alert alert-block alert-success\">\n",
    "<h3 style=\"text-align: center;\"><strong>Operación $a(b+c)$</strong></h3>\n",
    "    \n",
    "<p><span style=\"text-decoration: underline;\"><span style=\"text-decoration: underline;\"><strong>Valores Iniciales:</strong></span></span> Num&eacute;ros $a, b, c\\in\\mathbb{R}$</p>\n",
    "<p>&nbsp; &nbsp; &nbsp; &nbsp; &nbsp;<span style=\"text-decoration: underline;\">Paso 1:</span> $y=b+c$</p>\n",
    "<p>&nbsp; &nbsp; &nbsp; &nbsp; &nbsp;<span style=\"text-decoration: underline;\">Paso 2:</span> $d=a \\cdot y$</p>\n",
    "<p><span style=\"text-decoration: underline;\"><strong>Valor Final:</strong></span> N&uacute;mero $d\\in\\mathbb{R}$</p>\n",
    "</div>"
   ]
  },
  {
   "cell_type": "markdown",
   "metadata": {
    "kernel": "SoS"
   },
   "source": [
    "<h3><strong>e) C&oacute;digo en GNU Octave</strong></h3>"
   ]
  },
  {
   "cell_type": "code",
   "execution_count": 1,
   "metadata": {
    "kernel": "octave"
   },
   "outputs": [
    {
     "name": "stdout",
     "output_type": "stream",
     "text": [
      "ans =  60\n"
     ]
    }
   ],
   "source": [
    "% Acá se escribe la función del método de la bisección utilizando el código de GNU OCtave\n",
    "% Ejemplo ilustrativo\n",
    "function d=operacion(a,b,c)\n",
    "    %Esta función realiza la suma de dos terminos a y b, y el resultado lo guarda en la variable y\n",
    "    y=b+c;\n",
    "    d=a*y;\n",
    "end\n",
    "operacion(6,9,1)"
   ]
  },
  {
   "cell_type": "markdown",
   "metadata": {
    "kernel": "octave"
   },
   "source": [
    "<h3><strong>f) C&oacute;digo en Python</strong></h3>"
   ]
  },
  {
   "cell_type": "code",
   "execution_count": 2,
   "metadata": {
    "kernel": "python3"
   },
   "outputs": [
    {
     "data": {
      "text/plain": [
       "60"
      ]
     },
     "execution_count": 2,
     "metadata": {},
     "output_type": "execute_result"
    }
   ],
   "source": [
    "#Acá se escribe la función del método de la bisección utilizando el código de GNU OCtave\n",
    "#Ejemplo ilustrativo\n",
    "\n",
    "def operacion(a,b,c):\n",
    "    #Esta función realiza la suma de dos terminos a y b, y el resultado lo guarda en la variable y\n",
    "    y=b+c\n",
    "    d=a*y\n",
    "    return (d)\n",
    "\n",
    "operacion(6,9,1)"
   ]
  },
  {
   "cell_type": "markdown",
   "metadata": {
    "kernel": "python3"
   },
   "source": [
    "<h3><strong>g) Ejemplo Num&eacute;rico</strong></h3>"
   ]
  },
  {
   "cell_type": "markdown",
   "metadata": {
    "kernel": "python3"
   },
   "source": [
    "Acá explica un ejemplo numérico del método. Puede ser un ejemplo de los explicados en clase. La solución se realiza utilizando las funciones implementadas anteriormente en GNU Octave y Python. \n",
    "\n",
    "Por ejemplo: Considere dos números $a=5$, $b=-4$ y $c=2$. El resultado de la operación $a(b+c)$ es $-10$"
   ]
  },
  {
   "cell_type": "code",
   "execution_count": 5,
   "metadata": {
    "kernel": "octave"
   },
   "outputs": [
    {
     "name": "stdout",
     "output_type": "stream",
     "text": [
      "y = -10\n"
     ]
    }
   ],
   "source": [
    "% Solución del ejemplo utilizando GNU Octave\n",
    "a=5;\n",
    "b=-4;\n",
    "c=2;\n",
    "y=operacion(5,-4,2)"
   ]
  },
  {
   "cell_type": "code",
   "execution_count": 4,
   "metadata": {
    "kernel": "python3"
   },
   "outputs": [
    {
     "name": "stdout",
     "output_type": "stream",
     "text": [
      "-10\n"
     ]
    }
   ],
   "source": [
    "# Solución del ejemplo utilizando Python\n",
    "a=5\n",
    "b=-4\n",
    "c=2\n",
    "y=operacion(5,-4,2)\n",
    "print(y)"
   ]
  },
  {
   "cell_type": "markdown",
   "metadata": {
    "kernel": "python3"
   },
   "source": [
    "<a id='newton'></a>\n",
    "<h2><span style=\"color: #993300;\"><span style=\"text-decoration: underline;\"><strong>M&eacute;todo 2:</strong> M&eacute;todo de Newton-Raphson</span></span></h2>"
   ]
  },
  {
   "cell_type": "markdown",
   "metadata": {
    "kernel": "python3"
   },
   "source": [
    "<h3><strong>a) Formulaci&oacute;n Matem&aacute;tica</strong></h3>"
   ]
  },
  {
   "cell_type": "markdown",
   "metadata": {
    "kernel": "python3"
   },
   "source": [
    "<h3><strong>b) Valores Iniciales</strong></h3>\n"
   ]
  },
  {
   "cell_type": "markdown",
   "metadata": {
    "kernel": "python3"
   },
   "source": [
    "<h3><strong>c) Ventajas y Desvantajas</strong></h3>"
   ]
  },
  {
   "cell_type": "markdown",
   "metadata": {
    "kernel": "python3"
   },
   "source": [
    "<h3><strong>d) Pasos del m&eacute;todo (Pseudoc&oacute;digo)</strong></h3>"
   ]
  },
  {
   "cell_type": "markdown",
   "metadata": {
    "kernel": "python3"
   },
   "source": [
    "<h3><strong>e) C&oacute;digo en GNU Octave</strong></h3>"
   ]
  },
  {
   "cell_type": "markdown",
   "metadata": {
    "kernel": "python3"
   },
   "source": [
    "<h3><strong>f) C&oacute;digo en Python</strong></h3>"
   ]
  },
  {
   "cell_type": "markdown",
   "metadata": {
    "kernel": "python3"
   },
   "source": [
    "<h3><strong>g) Ejemplo Num&eacute;rico</strong></h3>"
   ]
  },
  {
   "cell_type": "markdown",
   "metadata": {
    "kernel": "python3"
   },
   "source": [
    "<a id='secante'></a>\n",
    "<h2><span style=\"color: #993300;\"><span style=\"text-decoration: underline;\"><strong>M&eacute;todo 3:</strong> M&eacute;todo de la Secante</span></span></h2>"
   ]
  },
  {
   "cell_type": "markdown",
   "metadata": {
    "kernel": "python3"
   },
   "source": [
    "<h3><strong>a) Formulaci&oacute;n Matem&aacute;tica</strong></h3>"
   ]
  },
  {
   "cell_type": "markdown",
   "metadata": {
    "kernel": "python3"
   },
   "source": [
    "<h3><strong>b) Valores Iniciales</strong></h3>\n"
   ]
  },
  {
   "cell_type": "markdown",
   "metadata": {
    "kernel": "python3"
   },
   "source": [
    "<h3><strong>c) Ventajas y Desvantajas</strong></h3>"
   ]
  },
  {
   "cell_type": "markdown",
   "metadata": {
    "kernel": "python3"
   },
   "source": [
    "<h3><strong>d) Pasos del m&eacute;todo (Pseudoc&oacute;digo)</strong></h3>"
   ]
  },
  {
   "cell_type": "markdown",
   "metadata": {
    "kernel": "python3"
   },
   "source": [
    "<h3><strong>e) C&oacute;digo en GNU Octave</strong></h3>"
   ]
  },
  {
   "cell_type": "markdown",
   "metadata": {
    "kernel": "python3"
   },
   "source": [
    "<h3><strong>f) C&oacute;digo en Python</strong></h3>"
   ]
  },
  {
   "cell_type": "markdown",
   "metadata": {
    "kernel": "python3"
   },
   "source": [
    "<h3><strong>g) Ejemplo Num&eacute;rico</strong></h3>"
   ]
  }
 ],
 "metadata": {
  "kernelspec": {
   "display_name": "SoS",
   "language": "sos",
   "name": "sos"
  },
  "language_info": {
   "codemirror_mode": "sos",
   "file_extension": ".sos",
   "mimetype": "text/x-sos",
   "name": "sos",
   "nbconvert_exporter": "sos_notebook.converter.SoS_Exporter",
   "pygments_lexer": "sos"
  },
  "sos": {
   "kernels": [
    [
     "octave",
     "octave",
     "octave",
     "",
     ""
    ],
    [
     "python3",
     "python3",
     "python3",
     "",
     {
      "name": "ipython",
      "version": 3
     }
    ]
   ],
   "panel": {
    "displayed": true,
    "height": 0
   },
   "version": "0.21.7"
  }
 },
 "nbformat": 4,
 "nbformat_minor": 2
}
