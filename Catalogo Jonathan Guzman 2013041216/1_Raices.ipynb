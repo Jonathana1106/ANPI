{
 "cells": [
  {
   "cell_type": "markdown",
   "metadata": {
    "kernel": "SoS"
   },
   "source": [
    "<h1 style=\"text-align: center;\"><strong>1. Soluci&oacute;n de Ecuaciones No Lineales</strong></h1>"
   ]
  },
  {
   "cell_type": "markdown",
   "metadata": {
    "kernel": "python3"
   },
   "source": [
    "<h2 style=\"text-align: center;\"><span style=\"text-decoration: underline; color: #008080;\"><strong>Algoritmos</strong></span></h2>\n",
    "\n",
    "[<strong>M&eacute;todo 1: M&eacute;todo de la Bisecci&oacute;n</strong>](#biseccion)\n",
    "\n",
    "[<strong>M&eacute;todo 2: M&eacute;todo de Newton-Raphson</strong>](#newton)\n",
    "\n",
    "[<strong>M&eacute;todo 3: M&eacute;todo de la Secante</strong>](#secante)"
   ]
  },
  {
   "cell_type": "markdown",
   "metadata": {
    "kernel": "SoS"
   },
   "source": [
    "<a id='biseccion'></a>\n",
    "<h2><span style=\"color: #993300;\"><span style=\"text-decoration: underline;\"><strong>M&eacute;todo 1:</strong> M&eacute;todo de la Bisecci&oacute;n</span></span></h2>"
   ]
  },
  {
   "cell_type": "markdown",
   "metadata": {
    "kernel": "SoS"
   },
   "source": [
    "<h3><strong>a) Formulaci&oacute;n Matem&aacute;tica</strong></h3>"
   ]
  },
  {
   "cell_type": "markdown",
   "metadata": {
    "kernel": "SoS"
   },
   "source": [
    "El método de bisección, conocido también como de corte binario, de partición de intervalos o de Bolzano, es un tipo de búsqueda incremental en el que el intervalo se divide siempre a la mitad. Si la función cambia de signo sobre un intervalo, se evalúa el valor de la función en el punto medio. La posición de la raíz se determina situándola en el punto medio del subintervalo, dentro del cual ocurre un cambio de signo. El proceso se repite hasta obtener una mejor aproximación.\n",
    "\n",
    "En general, si $f(x)$ es real y continúa en el intervalo que va desde $x_a$ hasta $x_b$ y $f(x_a)$ y $f(x_b)$ tienen signos opuestos, es decir: \n",
    "                                                                $f(x_a)f(x_b) < 0$ \n",
    "entonces hay al menos una raíz real entre $x_a$ y $x_b$.\n",
    "\n",
    "\n",
    "\n",
    "$\\begin{equation}\n",
    "I_{k+1} = \\left[a_{k+1},b_{k+1}\\right] = \\left\\{ \\begin{array}{lcc}\n",
    "            \\left[a_{k},x_{k}\\right] &   si  & f(a_{k})f(x_{k}) < 0 \\\\\n",
    "             \\left[x_{k},b_{k}\\right] &   si  & f(a_{k})f(x_{k}) > 0\n",
    "             \\end{array}\n",
    "   \\right.\n",
    "\\end{equation}$"
   ]
  },
  {
   "cell_type": "markdown",
   "metadata": {
    "kernel": "SoS"
   },
   "source": [
    "<h3><strong>b) Valores Iniciales</strong></h3>"
   ]
  },
  {
   "cell_type": "markdown",
   "metadata": {
    "kernel": "SoS"
   },
   "source": [
    "El método de bisección se basa en el Teorema de Bolzano, el cual afirma que si se tiene una función real $y=f(x)$ continua en el intervalo $]a,b[$ donde el signo de la función en el extremo $a$ es distinto al signo de la función en el extremo $b$ del intervalo, entonces existe al menos un $c∈]a,b[$ tal que $f(c)=0$, que es la raíz buscada."
   ]
  },
  {
   "cell_type": "markdown",
   "metadata": {
    "kernel": "SoS"
   },
   "source": [
    "<h3><strong>c) Ventajas y Desvantajas</strong></h3>"
   ]
  },
  {
   "cell_type": "markdown",
   "metadata": {
    "kernel": "SoS"
   },
   "source": [
    "<p><span style=\"text-decoration: underline;\"><span style=\"text-decoration: underline;\"><strong>Ventajas:</strong></span></span></p>\n",
    "<p>&nbsp; &nbsp; &nbsp; &nbsp; &nbsp;<span style=\"text-decoration: underline;\">1-</span> Es siempre convergente.</p>\n",
    "<p>&nbsp; &nbsp; &nbsp; &nbsp; &nbsp;<span style=\"text-decoration: underline;\">2-</span> Es óptimo para resolver una ecuación $f(x)=0$ cuando no se sabe nada de $f$, excepto calcular su signo. </p>\n",
    "<p>&nbsp; &nbsp; &nbsp; &nbsp; &nbsp;<span style=\"text-decoration: underline;\">3-</span> Requiere que $f$ sea continua en el intervalo especificado. </p>\n",
    "<p><span style=\"text-decoration: underline;\"><strong>Desventajas:</strong></span></p>\n",
    "<p>&nbsp; &nbsp; &nbsp; &nbsp; &nbsp;<span style=\"text-decoration: underline;\">1-</span> Converge muy lentamente. </p>\n",
    "<p>&nbsp; &nbsp; &nbsp; &nbsp; &nbsp;<span style=\"text-decoration: underline;\">2-</span> Permite encontrar solo una raíz, aunque existan más en el intervalo.</p>\n",
    "<p>&nbsp; &nbsp; &nbsp; &nbsp; &nbsp;<span style=\"text-decoration: underline;\">3-</span> No puede determinar raíces complejas. </p>"
   ]
  },
  {
   "cell_type": "markdown",
   "metadata": {
    "kernel": "SoS"
   },
   "source": [
    "<h3><strong>d) Pasos del m&eacute;todo (Pseudoc&oacute;digo)</strong></h3>"
   ]
  },
  {
   "cell_type": "markdown",
   "metadata": {
    "kernel": "SoS"
   },
   "source": [
    "Iniciar bisection(func, a, b, tol)\n",
    "    Validar la condicion para encontrar el cero\n",
    "    si func(a) * func(b) < 0\n",
    "        encontrar el valor inicial de x\n",
    "        entonces xAprox = (a + b) / 2\n",
    "        _iter = 0\n",
    "        \n",
    "   Repetir hasta que el x se acerque al cero\n",
    "        mientras (abs(func(xAprox)) > tol)\n",
    "            Verificar cual es el nuevo intervalo de la funcion\n",
    "            si func(a) * func(xAprox) < 0\n",
    "                entonces b = xAprox\n",
    "            sino a = xAprox\n",
    "\n",
    "   Actualizar el valor de x y de las iteraciones\n",
    "            entonces xAprox = (a + b) / 2\n",
    "            aumentar el contador de iteraciones_iter += 1\n",
    "   sino enviar mensaje de error ValueError(\"Las condiciones no garantizan el cero de la función\")\n",
    "\n",
    "   mostrar el restultado obtenido xAprox, _iter"
   ]
  },
  {
   "cell_type": "markdown",
   "metadata": {
    "kernel": "SoS"
   },
   "source": [
    "<h3><strong>e) C&oacute;digo en GNU Octave</strong></h3>"
   ]
  },
  {
   "cell_type": "code",
   "execution_count": 2,
   "metadata": {
    "kernel": "octave"
   },
   "outputs": [
    {
     "ename": "RuntimeError",
     "evalue": "Failed to start kernel \"octave\". Kernel didn't respond in 30 seconds\nError Message:\n[MetaKernelApp] ERROR | Exception in message handler:\r\nTraceback (most recent call last):\r\n  File \"C:\\Anaconda3\\lib\\site-packages\\ipykernel\\kernelbase.py\", line 272, in dispatch_shell\r\n    yield gen.maybe_future(handler(stream, idents, msg))\r\n  File \"C:\\Anaconda3\\lib\\site-packages\\ipykernel\\kernelbase.py\", line 655, in kernel_info_request\r\n    content.update(self.kernel_info)\r\n  File \"C:\\Anaconda3\\lib\\site-packages\\ipykernel\\kernelbase.py\", line 648, in kernel_info\r\n    'language_info': self.language_info,\r\n  File \"C:\\Anaconda3\\lib\\site-packages\\octave_kernel\\kernel.py\", line 78, in language_info\r\n    'version': self.language_version,\r\n  File \"C:\\Anaconda3\\lib\\site-packages\\octave_kernel\\kernel.py\", line 69, in language_version\r\n    ver = self.octave_engine.eval('version', silent=True)\r\n  File \"C:\\Anaconda3\\lib\\site-packages\\octave_kernel\\kernel.py\", line 96, in octave_engine\r\n    logger=self.log)\r\n  File \"C:\\Anaconda3\\lib\\site-packages\\octave_kernel\\kernel.py\", line 170, in __init__\r\n    self.executable = self._get_executable()\r\n  File \"C:\\Anaconda3\\lib\\site-packages\\octave_kernel\\kernel.py\", line 457, in _get_executable\r\n    raise OSError('octave-cli not found, please see README')\r\nOSError: octave-cli not found, please see README\r\n",
     "output_type": "error",
     "traceback": [
      "\u001b[91mFailed to start kernel \"octave\". Kernel didn't respond in 30 seconds\nError Message:\n[MetaKernelApp] ERROR | Exception in message handler:\r\nTraceback (most recent call last):\r\n  File \"C:\\Anaconda3\\lib\\site-packages\\ipykernel\\kernelbase.py\", line 272, in dispatch_shell\r\n    yield gen.maybe_future(handler(stream, idents, msg))\r\n  File \"C:\\Anaconda3\\lib\\site-packages\\ipykernel\\kernelbase.py\", line 655, in kernel_info_request\r\n    content.update(self.kernel_info)\r\n  File \"C:\\Anaconda3\\lib\\site-packages\\ipykernel\\kernelbase.py\", line 648, in kernel_info\r\n    'language_info': self.language_info,\r\n  File \"C:\\Anaconda3\\lib\\site-packages\\octave_kernel\\kernel.py\", line 78, in language_info\r\n    'version': self.language_version,\r\n  File \"C:\\Anaconda3\\lib\\site-packages\\octave_kernel\\kernel.py\", line 69, in language_version\r\n    ver = self.octave_engine.eval('version', silent=True)\r\n  File \"C:\\Anaconda3\\lib\\site-packages\\octave_kernel\\kernel.py\", line 96, in octave_engine\r\n    logger=self.log)\r\n  File \"C:\\Anaconda3\\lib\\site-packages\\octave_kernel\\kernel.py\", line 170, in __init__\r\n    self.executable = self._get_executable()\r\n  File \"C:\\Anaconda3\\lib\\site-packages\\octave_kernel\\kernel.py\", line 457, in _get_executable\r\n    raise OSError('octave-cli not found, please see README')\r\nOSError: octave-cli not found, please see README\r\n\u001b[0m"
     ]
    }
   ],
   "source": [
    "clear;\n",
    "close all;\n",
    "\n",
    "%{\n",
    "    Metodo de la Biseccion\n",
    "    Entradas\n",
    "      @param a: limite inferior del intervalo\n",
    "      @param b:  limite superior del intervalo\n",
    "      @param tol:  tolerencia del algoritmo\n",
    "      @param f: funcion a la cual se le aplicara el algoritmo\n",
    "    Salidas\n",
    "      @return xAprox: valor aproximado de x\n",
    "      @return iter: iteraciones necesarias para aproximar x\n",
    "    %}\n",
    "\n",
    "function [xAprox, iter] = bisection (a, b, tol, f)\n",
    "\n",
    "    % Validar la condicion para encontrar el cero\n",
    "    if (f(a) * f(b) < 0)\n",
    "        % Valor inicial de x\n",
    "        xAprox = (a + b) / 2;\n",
    "        iter = 0;\n",
    "        \n",
    "        % Repetir hasta que el x se acerque al cero\n",
    "        while (abs(f(xAprox)) > tol)\n",
    "            % Verificar cual es el nuevo intervalo de la funcion\n",
    "            if (f(a) * f(xAprox) < 0)\n",
    "                b = xAprox;\n",
    "            else\n",
    "                a = xAprox;\n",
    "            endif\n",
    "\n",
    "            % Actualizar el valor de x y de las iteraciones\n",
    "            xAprox = (a + b) / 2;\n",
    "            iter = iter + 1;\n",
    "        endwhile\n",
    "    else\n",
    "        error(\"Condiciones no garantizan el cero de la funcion\");\n",
    "    endif\n",
    "\n",
    "    return;\n",
    "endfunction\n",
    "\n",
    "\n",
    "% Prueba\n",
    "% Limites\n",
    "a = 0;\n",
    "b = 2;\n",
    "% Tolerancia\n",
    "tol = 0.1;\n",
    "% Funcion a la cual se le aplicara el metodo\n",
    "func = @(x) e^x-x-2;\n",
    "% Llamado de la funcion\n",
    "[xAprox, iter] = bisection (a, b, tol, func);\n",
    "printf('xAprox = %f\\nIteraciones = %i', xAprox, iter);\n"
   ]
  },
  {
   "cell_type": "markdown",
   "metadata": {
    "kernel": "octave"
   },
   "source": [
    "<h3><strong>f) C&oacute;digo en Python</strong></h3>"
   ]
  },
  {
   "cell_type": "code",
   "execution_count": 1,
   "metadata": {
    "kernel": "Python 3"
   },
   "outputs": [
    {
     "name": "stdout",
     "output_type": "stream",
     "text": [
      "xAprox = 1.125\n",
      "Iteraciones = 3\n"
     ]
    }
   ],
   "source": [
    "#Metodo de la Biseccion\n",
    "#Entradas:\n",
    "            #func: es la funcion a analizar\n",
    "            #a(float): es \"a\" valor inferior en el intervalo de la funcion [a, b]\n",
    "            #b(float): es \"b\" valor superior en el intervalo de la funcion [a, b]\n",
    "            #tol(float): es la tolerancia del algoritmo\n",
    "#Salidas:\n",
    "            #xAprox(float): es la solucion, valor aproximado de x\n",
    "            #_iter(int): es el numero de iteraciones\n",
    "\n",
    "import math\n",
    "\n",
    "def bisection(func, a, b, tol):\n",
    "    # Validar la condicion para encontrar el cero\n",
    "    if (func(a) * func(b) < 0):\n",
    "        # Valor inicial de x\n",
    "        xAprox = (a + b) / 2\n",
    "        _iter = 0\n",
    "\n",
    "        # Repetir hasta que el x se acerque al cero\n",
    "        while (abs(func(xAprox)) > tol):\n",
    "            # Verificar cual es el nuevo intervalo de la funcion\n",
    "            if (func(a) * func(xAprox) < 0):\n",
    "                b = xAprox\n",
    "            else:\n",
    "                a = xAprox\n",
    "\n",
    "            # Actualizar el valor de x y de las iteraciones\n",
    "            xAprox = (a + b) / 2\n",
    "            _iter += 1\n",
    "    else:\n",
    "        raise ValueError(\"Las condiciones no garantizan el cero de la función\")\n",
    "\n",
    "    return xAprox, _iter\n",
    "\n",
    "# Prueba\n",
    "if __name__ == '__main__':\n",
    "    # Limites\n",
    "    a = 0\n",
    "    b = 2\n",
    "    # Tolerancia\n",
    "    tol = 0.1\n",
    "    # Funcion a la cual se le aplicara el metodo\n",
    "    func = lambda x: math.e**x - x - 2\n",
    "    # Llamado de la funcion\n",
    "    xAprox, _iter = bisection(func, a, b, tol)\n",
    "    print('xAprox = {}\\nIteraciones = {}'.format(xAprox, _iter))\n"
   ]
  },
  {
   "cell_type": "markdown",
   "metadata": {
    "kernel": "python3"
   },
   "source": [
    "<h3><strong>g) Ejemplo Num&eacute;rico</strong></h3>"
   ]
  },
  {
   "cell_type": "markdown",
   "metadata": {
    "kernel": "python3"
   },
   "source": [
    "<a id='newton'></a>\n",
    "<h2><span style=\"color: #993300;\"><span style=\"text-decoration: underline;\"><strong>M&eacute;todo 2:</strong> M&eacute;todo de Newton-Raphson</span></span></h2>"
   ]
  },
  {
   "cell_type": "markdown",
   "metadata": {
    "kernel": "python3"
   },
   "source": [
    "<h3><strong>a) Formulaci&oacute;n Matem&aacute;tica</strong></h3>"
   ]
  },
  {
   "cell_type": "markdown",
   "metadata": {
    "kernel": "python3"
   },
   "source": [
    "Existen funciones donde el método de la bisección no puede sernos de utilidad, por ejemplo, considere la función \n",
    "\n",
    "$f(x) = \\frac{1}{2} - \\frac{1}{1 + 200\\left |{x-1.05}\\right|}$, en el intervalo $[0.8, 1.8]$\n",
    "\n",
    "![title](img/imagenNewton.png)\n",
    "\n",
    "Las soluciones de la ecuación $f(x) = 0$ son $ξ-1 = 1.05 - \\frac{1}{200}$ y $ξ_2 = 1.05 + \\frac{1}{200}$, es decir ambas soluciones se ecuentran a una misma distancia y aunque existe una solución en el intervalo dado, no se cumple que: $f(a)f(b) < 0$, por lo que no se puede utilizar el método de la bisección.\n",
    "Por situaciones como la anterior, se buscan otros métodos iterativos que ayuden  a aproximar la solución de ecuaciones.\n",
    "El método de Newton-Raphson es un método abierto, en el sentido de que no está garantizada su convergencia global. La única manera de alcanzar la convergencia es seleccionar un valor inicial lo suficientemente cercano a la raíz buscada. Así, se ha de comenzar la iteración con un valor razonablemente cercano al cero (denominado punto de arranque o valor supuesto). La relativa cercanía del punto inicial a la raíz depende mucho de la naturaleza de la propia función; si ésta presenta múltiples puntos de inflexión o pendientes grandes en el entorno de la raíz, entonces las probabilidades de que el algoritmo diverja aumentan, lo cual exige seleccionar un valor supuesto cercano a la raíz.\n",
    "\n",
    "La interación de Newton-Raphson para aproximar la solución de $f(x) = 0$ esta dada por: \n",
    "\n",
    "$ \\begin{equation}\n",
    "       \\left\\{  \\begin{array}{lcc}\n",
    "                 x_{k+1} = x_{k}- \\frac{f(x_{k})}{f^{\\prime}(x_{k})} &  donde  & f^{\\prime}(x_{k}) \\neq 0 \\text{ para todo }  k \\geq 0 \\\\\n",
    "                 x_{0} \\in \\mathbb{R} & \\text {valor inicial} \n",
    "                \\end{array}\n",
    "     \\right.\n",
    "    \\end{equation}$"
   ]
  },
  {
   "cell_type": "markdown",
   "metadata": {
    "kernel": "python3"
   },
   "source": [
    "<h3><strong>b) Valores Iniciales</strong></h3>\n"
   ]
  },
  {
   "cell_type": "markdown",
   "metadata": {
    "kernel": "python3"
   },
   "source": [
    "Un valor $x_0$ que pertenezca al dominio de la función dada."
   ]
  },
  {
   "cell_type": "markdown",
   "metadata": {
    "kernel": "python3"
   },
   "source": [
    "<h3><strong>c) Ventajas y Desvantajas</strong></h3>"
   ]
  },
  {
   "cell_type": "markdown",
   "metadata": {
    "kernel": "python3"
   },
   "source": [
    "<p><span style=\"text-decoration: underline;\"><span style=\"text-decoration: underline;\"><strong>Ventajas:</strong></span></span></p>\n",
    "<p>&nbsp; &nbsp; &nbsp; &nbsp; &nbsp;<span style=\"text-decoration: underline;\">1-</span> Converge rápidamente.</p>\n",
    "<p>&nbsp; &nbsp; &nbsp; &nbsp; &nbsp;<span style=\"text-decoration: underline;\">2-</span> Proporciona una buena precisión. </p>\n",
    "<p><span style=\"text-decoration: underline;\"><strong>Desventajas:</strong></span></p>\n",
    "<p>&nbsp; &nbsp; &nbsp; &nbsp; &nbsp;<span style=\"text-decoration: underline;\">1-</span> No existe un criterio general de convergencia, por lo que no siempre esta asegurada. </p>\n",
    "<p>&nbsp; &nbsp; &nbsp; &nbsp; &nbsp;<span style=\"text-decoration: underline;\">2-</span> Depende mucho de la naturaleza de la función.</p>"
   ]
  },
  {
   "cell_type": "markdown",
   "metadata": {
    "kernel": "python3"
   },
   "source": [
    "<h3><strong>d) Pasos del m&eacute;todo (Pseudoc&oacute;digo)</strong></h3>"
   ]
  },
  {
   "cell_type": "markdown",
   "metadata": {
    "kernel": "Python 3"
   },
   "source": [
    "Iniciar newtonRaphson(f, x0, tol)\n",
    "    Valor incial de x\n",
    "    xAprox = np.array([x0])\n",
    "    _iter = 0\n",
    "\n",
    "   Repetir hasta que x se haya acercado al cero de la funcion\n",
    "    mientras (abs(f(xAprox[-1])) > tol)\n",
    "        Obtener el valor de x_k\n",
    "        xk = xAprox[-1]\n",
    "        Derivar la funcion\n",
    "        df = derivar(f, xk, dx=1e-6)\n",
    "        Actualizar el valor de x y las iteraciones\n",
    "        xAprox = append(xAprox, xk - f(xk) / df)\n",
    "        _iter += 1\n",
    "\n",
    "   mostrar el resultado xAprox, _iter"
   ]
  },
  {
   "cell_type": "markdown",
   "metadata": {
    "kernel": "python3"
   },
   "source": [
    "<h3><strong>e) C&oacute;digo en GNU Octave</strong></h3>"
   ]
  },
  {
   "cell_type": "code",
   "execution_count": null,
   "metadata": {
    "kernel": "octave"
   },
   "outputs": [],
   "source": [
    "clear;\n",
    "close all;\n",
    "\n",
    "%{\n",
    "    Metodo de Newton Raphson\n",
    "    @param func: funcion a la cual se le aplicara el algoritmo\n",
    "    @param x0: valor inicial\n",
    "    @param tol: tolerencia del algoritmo\n",
    "\n",
    "    @return xAprox: valor aproximado de x\n",
    "    @return iter: iteraciones necesarias para aproximar x\n",
    "    %}\n",
    "\n",
    "function [xAprox, iter] = newtonRaphson (func, x0, tol)\n",
    "\n",
    "    % Valor incial de x\n",
    "    xAprox(1) = x0;\n",
    "    iter = 0;\n",
    "\n",
    "    % Convertir la funcion a programacion simbolica\n",
    "    syms f(x);\n",
    "    f(x) = func;\n",
    "    \n",
    "    % Repetir hasta que x se haya acercado al cero de la funcion\n",
    "    while (abs(func(xAprox(end))) > tol)\n",
    "        % Obtener el valor de xk\n",
    "        xk = xAprox(end);\n",
    "        % Derivar la funcion\n",
    "        df = diff(f);\n",
    "        % Actualizar el valor de x y las iteraciones\n",
    "        xAprox(end + 1) = xk - func(xk) / double(df(xk));\n",
    "        iter = iter + 1;\n",
    "    endwhile\n",
    "\n",
    "    return;\n",
    "endfunction\n",
    "\n",
    "\n",
    "% Prueba\n",
    "% Valor inicial\n",
    "x0 = 3 / 4;\n",
    "% Tolerancia\n",
    "tol = 0.0000000001;\n",
    "% Funcion a la cual se le aplica el metodo\n",
    "func = @(x) cos(2 * x).^2 - x.^2;\n",
    "% Llamado de la funcion\n",
    "[xAprox, iter] = newtonRaphson (func, x0, tol);\n",
    "printf('xAprox = [');\n",
    "printf(' %f ', xAprox);\n",
    "printf(']\\nIteraciones = %i', iter);\n"
   ]
  },
  {
   "cell_type": "markdown",
   "metadata": {
    "kernel": "python3"
   },
   "source": [
    "<h3><strong>f) C&oacute;digo en Python</strong></h3>"
   ]
  },
  {
   "cell_type": "code",
   "execution_count": 2,
   "metadata": {
    "kernel": "Python 3"
   },
   "outputs": [
    {
     "name": "stdout",
     "output_type": "stream",
     "text": [
      "xAprox = 0.5149332646611293\n",
      "Iteraciones = 4\n"
     ]
    }
   ],
   "source": [
    "#Metodo de Newton-Raphson\n",
    "#Entradas:\n",
    "            #func(string): es la funcion a analizar\n",
    "            #x0(float): valor inicial\n",
    "            #tol(float): es la tolerancia del algoritmo\n",
    "#Salidas:\n",
    "            #xAprox(float): es la solucion, valor aproximado de x\n",
    "            #_iter(int): es el numero de iteraciones\n",
    "\n",
    "import math\n",
    "import numpy as np\n",
    "from scipy import misc\n",
    "\n",
    "def newtonRaphson(f, x0, tol):\n",
    "    # Valor incial de x\n",
    "    xAprox = np.array([x0])\n",
    "    _iter = 0\n",
    "\n",
    "    # Repetir hasta que x se haya acercado al cero de la funcion\n",
    "    while (abs(f(xAprox[-1])) > tol):\n",
    "        # Obtener el valor de x_k\n",
    "        xk = xAprox[-1]\n",
    "        # Derivar la funcion\n",
    "        df = misc.derivative(f, xk, dx=1e-6)\n",
    "        # Actualizar el valor de x y las iteraciones\n",
    "        xAprox = np.append(xAprox, xk - f(xk) / df)\n",
    "        _iter += 1\n",
    "\n",
    "    return xAprox, _iter\n",
    "\n",
    "# Prueba\n",
    "if __name__ == '__main__':\n",
    "    # Valor inicial\n",
    "    x0 = 3 / 4\n",
    "    # Tolerancia\n",
    "    tol = 0.0000000001\n",
    "    # Funcion a la cual se le aplica el metodo\n",
    "    func = lambda x: (np.cos(2 * x))**2 - x**2\n",
    "    # Llamado de la funcion\n",
    "    xAprox, _iter = newtonRaphson(func, x0, tol)\n",
    "    print('xAprox = {}\\nIteraciones = {}'.format(xAprox[-1], _iter))\n"
   ]
  },
  {
   "cell_type": "markdown",
   "metadata": {
    "kernel": "python3"
   },
   "source": [
    "<h3><strong>g) Ejemplo Num&eacute;rico</strong></h3>"
   ]
  },
  {
   "cell_type": "markdown",
   "metadata": {
    "kernel": "python3"
   },
   "source": [
    "<a id='secante'></a>\n",
    "<h2><span style=\"color: #993300;\"><span style=\"text-decoration: underline;\"><strong>M&eacute;todo 3:</strong> M&eacute;todo de la Secante</span></span></h2>"
   ]
  },
  {
   "cell_type": "markdown",
   "metadata": {
    "kernel": "python3"
   },
   "source": [
    "<h3><strong>a) Formulaci&oacute;n Matem&aacute;tica</strong></h3>"
   ]
  },
  {
   "cell_type": "markdown",
   "metadata": {
    "kernel": "python3"
   },
   "source": [
    "El método de Newton-Raphson aproxima una solución de la ecuación $f(x)=0$ considerando la primera la primera derivada de $f$. Un problema potencial en la implementación del método de Newton-Raphson es la evaluación de la derivada. Aunque esto no es un inconveniente para los polinomios ni para muchas otras funciones, existen algunas funciones cuyas derivadas en ocasiones resultan muy difíciles de calcular. Por esta razón es intuitivo tratar de conseguir una aproximación para la derivada $f'$, y modificar el método de Newton-Raphson.\n",
    "Una manera de aproximar el valor de $f'$es a través de la fórmula de la pendiente:\n",
    "\n",
    "$f^{\\prime}(x_k) \\approx \\frac{f(x_k)-f(x_{k-1})}{x_k - x_{k-1}}$\n",
    "\n",
    "Entonces realizando la modificación al método de Newton se obtiene el método de la secante que se define como:\n",
    "\n",
    "$x_{k+1} = x_k - (\\frac{x_k - x_{k-1}}{f(x_k)-f(x_{k-1})})f(x_k)$\n",
    "\n",
    "para $k = 1, 2, . . . $, donde $x0$ y $x1$ son los valores iniciales y se asume que $f(x_k) - f(x_{k-1}) \\neq 0$ para todo $k \\in{} 1$.\n"
   ]
  },
  {
   "cell_type": "markdown",
   "metadata": {
    "kernel": "python3"
   },
   "source": [
    "<h3><strong>b) Valores Iniciales</strong></h3>\n"
   ]
  },
  {
   "cell_type": "markdown",
   "metadata": {
    "kernel": "Python 3"
   },
   "source": [
    "Están dados por $x_0$ y $x_1$ según el dominio en el que se quiera realizar el análisis de la función dada. "
   ]
  },
  {
   "cell_type": "markdown",
   "metadata": {
    "kernel": "python3"
   },
   "source": [
    "<h3><strong>c) Ventajas y Desvantajas</strong></h3>"
   ]
  },
  {
   "cell_type": "markdown",
   "metadata": {
    "kernel": "python3"
   },
   "source": [
    "<p><span style=\"text-decoration: underline;\"><span style=\"text-decoration: underline;\"><strong>Ventajas:</strong></span></span></p>\n",
    "<p>&nbsp; &nbsp; &nbsp; &nbsp; &nbsp;<span style=\"text-decoration: underline;\">1-</span> Se puede aplicar cuando la función $f(x)$ es demasiado compleja como para obtener su derivada.</p>\n",
    "<p>&nbsp; &nbsp; &nbsp; &nbsp; &nbsp;<span style=\"text-decoration: underline;\">2-</span> El método de la secante es un proceso interativo y por lo mismo encuentra la aproximación casi con la misma rápidez que el método de Newton-Raphson. </p>\n",
    "<p>&nbsp; &nbsp; &nbsp; &nbsp; &nbsp;<span style=\"text-decoration: underline;\">3-</span> No necesita calcular derivadas. </p>\n",
    "<p><span style=\"text-decoration: underline;\"><strong>Desventajas:</strong></span></p>\n",
    "<p>&nbsp; &nbsp; &nbsp; &nbsp; &nbsp;<span style=\"text-decoration: underline;\">1-</span> Al ser un proceso iterativo, corre el mismo riesgo que Newton-Raphson de no converger a la raíz. </p>"
   ]
  },
  {
   "cell_type": "markdown",
   "metadata": {
    "kernel": "python3"
   },
   "source": [
    "<h3><strong>d) Pasos del m&eacute;todo (Pseudoc&oacute;digo)</strong></h3>"
   ]
  },
  {
   "cell_type": "markdown",
   "metadata": {
    "kernel": "Python 3"
   },
   "source": [
    "Iniciar def secant(func, xk_1, xk, tol)\n",
    "   _iter = 1\n",
    "\n",
    "   Repetir hasta que x el error sea mas pequeno que la tolerancia\n",
    "   mientras (abs(xk - xk_1) / abs(xk)) > tol\n",
    "        Nuevo valor de x\n",
    "        xTemp = xk - (xk - xk_1) / (func(xk) - func(xk_1)) * func(xk)\n",
    "        Actualizar el valor anterior y el valor actual\n",
    "        xk_1 = xk\n",
    "        xk = xTemp\n",
    "        Actualizar las iteraciones\n",
    "        _iter += 1\n",
    "\n",
    "   mostrar el resultado  xk, _iter"
   ]
  },
  {
   "cell_type": "markdown",
   "metadata": {
    "kernel": "python3"
   },
   "source": [
    "<h3><strong>e) C&oacute;digo en GNU Octave</strong></h3>"
   ]
  },
  {
   "cell_type": "code",
   "execution_count": null,
   "metadata": {
    "kernel": "octave"
   },
   "outputs": [],
   "source": [
    "clear;\n",
    "close all;\n",
    "\n",
    "%{\n",
    "    Metodo de la Secante\n",
    "    Entradas\n",
    "      @param xk_1: valor inicial en la iteracion 0\n",
    "      @param xk: valor inicial en la iteracion 1\n",
    "      @param tol: tolerencia del algoritmo\n",
    "      @param f: funcion a la cual se le aplicara el algoritmo\n",
    "    Salidas\n",
    "      @return xk: valor aproximado de x en la iteracion k\n",
    "      @return iter: iteraciones necesarias para aproximar x\n",
    "    %}\n",
    "\n",
    "function [xk, iter] = secant (xk_1, xk, tol, f)\n",
    "\n",
    "    iter = 1;\n",
    "\n",
    "    % Repetir hasta que x el error sea mas pequenio que la tolerancia\n",
    "    while (abs(xk - xk_1) / abs(xk)) > tol\n",
    "        % Nuevo valor de x\n",
    "        xTemp = xk - (xk - xk_1) / (f(xk) - f(xk_1)) * f(xk);\n",
    "        % Actualizar el valor anterior y el valor actual\n",
    "        xk_1 = xk;\n",
    "        xk = xTemp;\n",
    "        % Actualizar las iteraciones\n",
    "        iter = iter + 1;\n",
    "    endwhile\n",
    "\n",
    "    return;\n",
    "endfunction\n",
    "\n",
    "\n",
    "% Prueba\n",
    "% Valores iniciales\n",
    "x0 = 0;\n",
    "x1 = 1;\n",
    "% Tolerancia\n",
    "tol = 0.01;\n",
    "% Funcion a la cual se le aplica el metodo\n",
    "func = @(x) e^(-x^2) - x;\n",
    "% Llamado de la funcion\n",
    "[xk, iter] = secant (x0, x1, tol, func);\n",
    "printf('xk = %f\\nIteraciones = %i', xk, iter);\n"
   ]
  },
  {
   "cell_type": "markdown",
   "metadata": {
    "kernel": "python3"
   },
   "source": [
    "<h3><strong>f) C&oacute;digo en Python</strong></h3>"
   ]
  },
  {
   "cell_type": "code",
   "execution_count": 3,
   "metadata": {
    "kernel": "Python 3"
   },
   "outputs": [
    {
     "name": "stdout",
     "output_type": "stream",
     "text": [
      "xk = 0.6529172652472789\n",
      "Iteraciones = 4\n"
     ]
    }
   ],
   "source": [
    "#Metodo de la Secante\n",
    "#Entradas:\n",
    "            #func: es la funcion a analizar\n",
    "            #xk_1(float): valor inicial en la iteracion 0\n",
    "            #xk(float): valor inicial en la iteracion 1\n",
    "            #tol(float): es la tolerancia del algoritmo\n",
    "#Salidas:\n",
    "            #xk(float): es la solucion, valor aproximado de x\n",
    "            #_iter(int): es el numero de iteraciones\n",
    "\n",
    "import math\n",
    "\n",
    "def secant(func, xk_1, xk, tol):\n",
    "    _iter = 1\n",
    "\n",
    "    # Repetir hasta que x el error sea mas pequeno que la tolerancia\n",
    "    while (abs(xk - xk_1) / abs(xk)) > tol:\n",
    "        # Nuevo valor de x\n",
    "        xTemp = xk - (xk - xk_1) / (func(xk) - func(xk_1)) * func(xk)\n",
    "        # Actualizar el valor anterior y el valor actual\n",
    "        xk_1 = xk\n",
    "        xk = xTemp\n",
    "        # Actualizar las iteraciones\n",
    "        _iter += 1\n",
    "\n",
    "    return xk, _iter\n",
    "\n",
    "# Prueba\n",
    "if __name__ == '__main__':\n",
    "    # Valores iniciales\n",
    "    x0 = 0\n",
    "    x1 = 1\n",
    "    # Tolerancia\n",
    "    tol = 0.01\n",
    "    # Funcion a la cual se le aplica el metodo\n",
    "    func = lambda x: math.e**(-x**2) - x\n",
    "    # Llamado de la funcion\n",
    "    xk, _iter = secant(func, x0, x1, tol)\n",
    "    print('xk = {}\\nIteraciones = {}'.format(xk, _iter))\n"
   ]
  },
  {
   "cell_type": "markdown",
   "metadata": {
    "kernel": "python3"
   },
   "source": [
    "<h3><strong>g) Ejemplo Num&eacute;rico</strong></h3>"
   ]
  }
 ],
 "metadata": {
  "kernelspec": {
   "display_name": "SoS",
   "language": "sos",
   "name": "sos"
  },
  "language_info": {
   "codemirror_mode": "sos",
   "file_extension": ".sos",
   "mimetype": "text/x-sos",
   "name": "sos",
   "nbconvert_exporter": "sos_notebook.converter.SoS_Exporter",
   "pygments_lexer": "sos"
  },
  "sos": {
   "kernels": [
    [
     "Python 3",
     "python3",
     "python3",
     "",
     {
      "name": "ipython",
      "version": 3
     }
    ],
    [
     "octave",
     "octave",
     "octave",
     "",
     ""
    ],
    [
     "python3",
     "python3",
     "python3",
     "",
     {
      "name": "ipython",
      "version": 3
     }
    ]
   ],
   "panel": {
    "displayed": true,
    "height": 0
   },
   "version": "0.21.7"
  }
 },
 "nbformat": 4,
 "nbformat_minor": 2
}
