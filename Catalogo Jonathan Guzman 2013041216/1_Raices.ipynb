{
 "cells": [
  {
   "cell_type": "markdown",
   "metadata": {
    "kernel": "SoS"
   },
   "source": [
    "<h1 style=\"text-align: center;\"><strong>1. Soluci&oacute;n de Ecuaciones No Lineales</strong></h1>"
   ]
  },
  {
   "cell_type": "markdown",
   "metadata": {
    "kernel": "python3"
   },
   "source": [
    "<h2 style=\"text-align: center;\"><span style=\"text-decoration: underline; color: #008080;\"><strong>Algoritmos</strong></span></h2>\n",
    "\n",
    "[<strong>M&eacute;todo 1: M&eacute;todo de la Bisecci&oacute;n</strong>](#biseccion)\n",
    "\n",
    "[<strong>M&eacute;todo 2: M&eacute;todo de Newton-Raphson</strong>](#newton)\n",
    "\n",
    "[<strong>M&eacute;todo 3: M&eacute;todo de la Secante</strong>](#secante)\n",
    "\n",
    "[<strong>M&eacute;todo 4: M&eacute;todo de la Falsa Posición</strong>](#falsaposicion)\n",
    "\n",
    "[<strong>M&eacute;todo 5: M&eacute;todo del Punto Fijo</strong>](#puntofijo)\n",
    "\n",
    "[<strong>M&eacute;todo 6: M&eacute;todo de Muller</strong>](#muler)"
   ]
  },
  {
   "cell_type": "markdown",
   "metadata": {
    "kernel": "SoS"
   },
   "source": [
    "<a id='biseccion'></a>\n",
    "<h2><span style=\"color: #993300;\"><span style=\"text-decoration: underline;\"><strong>M&eacute;todo 1:</strong> M&eacute;todo de la Bisecci&oacute;n</span></span></h2>"
   ]
  },
  {
   "cell_type": "markdown",
   "metadata": {
    "kernel": "SoS"
   },
   "source": [
    "<h3><strong>a) Formulaci&oacute;n Matem&aacute;tica</strong></h3>"
   ]
  },
  {
   "cell_type": "markdown",
   "metadata": {
    "kernel": "SoS"
   },
   "source": [
    "El método de bisección, conocido también como de corte binario, de partición de intervalos o de Bolzano, es un tipo de búsqueda incremental en el que el intervalo se divide siempre a la mitad. Si la función cambia de signo sobre un intervalo, se evalúa el valor de la función en el punto medio. La posición de la raíz se determina situándola en el punto medio del subintervalo, dentro del cual ocurre un cambio de signo. El proceso se repite hasta obtener una mejor aproximación.\n",
    "\n",
    "En general, si $f(x)$ es real y continúa en el intervalo que va desde $x_a$ hasta $x_b$ y $f(x_a)$ y $f(x_b)$ tienen signos opuestos, es decir: \n",
    "                                                                $f(x_a)f(x_b) < 0$ \n",
    "entonces hay al menos una raíz real entre $x_a$ y $x_b$.\n",
    "\n",
    "\n",
    "\n",
    "$\\begin{equation}\n",
    "I_{k+1} = \\left[a_{k+1},b_{k+1}\\right] = \\left\\{ \\begin{array}{lcc}\n",
    "            \\left[a_{k},x_{k}\\right] &   si  & f(a_{k})f(x_{k}) < 0 \\\\\n",
    "             \\left[x_{k},b_{k}\\right] &   si  & f(a_{k})f(x_{k}) > 0\n",
    "             \\end{array}\n",
    "   \\right.\n",
    "\\end{equation}$"
   ]
  },
  {
   "cell_type": "markdown",
   "metadata": {
    "kernel": "SoS"
   },
   "source": [
    "<h3><strong>b) Valores Iniciales</strong></h3>"
   ]
  },
  {
   "cell_type": "markdown",
   "metadata": {
    "kernel": "SoS"
   },
   "source": [
    "El método de bisección se basa en el Teorema de Bolzano, el cual afirma que si se tiene una función real $y=f(x)$ continua en el intervalo $]a,b[$ donde el signo de la función en el extremo $a$ es distinto al signo de la función en el extremo $b$ del intervalo, entonces existe al menos un $c∈]a,b[$ tal que $f(c)=0$, que es la raíz buscada."
   ]
  },
  {
   "cell_type": "markdown",
   "metadata": {
    "kernel": "SoS"
   },
   "source": [
    "<h3><strong>c) Ventajas y Desvantajas</strong></h3>"
   ]
  },
  {
   "cell_type": "markdown",
   "metadata": {
    "kernel": "SoS"
   },
   "source": [
    "<p><span style=\"text-decoration: underline;\"><span style=\"text-decoration: underline;\"><strong>Ventajas:</strong></span></span></p>\n",
    "<p>&nbsp; &nbsp; &nbsp; &nbsp; &nbsp;<span style=\"text-decoration: underline;\">1-</span> Es siempre convergente.</p>\n",
    "<p>&nbsp; &nbsp; &nbsp; &nbsp; &nbsp;<span style=\"text-decoration: underline;\">2-</span> Es óptimo para resolver una ecuación $f(x)=0$ cuando no se sabe nada de $f$, excepto calcular su signo. </p>\n",
    "<p>&nbsp; &nbsp; &nbsp; &nbsp; &nbsp;<span style=\"text-decoration: underline;\">3-</span> Requiere que $f$ sea continua en el intervalo especificado. </p>\n",
    "<p><span style=\"text-decoration: underline;\"><strong>Desventajas:</strong></span></p>\n",
    "<p>&nbsp; &nbsp; &nbsp; &nbsp; &nbsp;<span style=\"text-decoration: underline;\">1-</span> Converge muy lentamente. </p>\n",
    "<p>&nbsp; &nbsp; &nbsp; &nbsp; &nbsp;<span style=\"text-decoration: underline;\">2-</span> Permite encontrar solo una raíz, aunque existan más en el intervalo.</p>\n",
    "<p>&nbsp; &nbsp; &nbsp; &nbsp; &nbsp;<span style=\"text-decoration: underline;\">3-</span> No puede determinar raíces complejas. </p>"
   ]
  },
  {
   "cell_type": "markdown",
   "metadata": {
    "kernel": "SoS"
   },
   "source": [
    "<h3><strong>d) Pasos del m&eacute;todo (Pseudoc&oacute;digo)</strong></h3>"
   ]
  },
  {
   "cell_type": "markdown",
   "metadata": {
    "kernel": "SoS"
   },
   "source": [
    "Iniciar bisection(func, a, b, tol), luego hay que validar la condicion para encontrar el cero. Si func(a) * func(b) < 0, entonces hay que encontrar el valor inicial de x, entonces xAprox = (a + b) / 2. Repetir hasta que el x se acerque al cero mientras (abs(func(xAprox)) > tol). Verificar cual es el nuevo intervalo de la funcion, si func(a) * func(xAprox) < 0, entonces: b = xAprox, sino a = xAprox. Actualizar el valor de x y de las iteraciones. Entonces: xAprox = (a + b) / 2 y aumentar el contador de iteraciones_iter += 1. Sino enviar mensaje de error y finalmente mostrar el restultado obtenido xAprox."
   ]
  },
  {
   "cell_type": "markdown",
   "metadata": {
    "kernel": "SoS"
   },
   "source": [
    "<h3><strong>e) C&oacute;digo en GNU Octave</strong></h3>"
   ]
  },
  {
   "cell_type": "code",
   "execution_count": null,
   "metadata": {
    "kernel": "octave"
   },
   "outputs": [],
   "source": [
    "clear;\n",
    "close all;\n",
    "\n",
    "%{\n",
    "    Metodo de la Biseccion\n",
    "    Entradas\n",
    "      @param a: limite inferior del intervalo\n",
    "      @param b:  limite superior del intervalo\n",
    "      @param tol:  tolerencia del algoritmo\n",
    "      @param f: funcion a la cual se le aplicara el algoritmo\n",
    "    Salidas\n",
    "      @return xAprox: valor aproximado de x\n",
    "      @return iter: iteraciones necesarias para aproximar x\n",
    "%}\n",
    "\n",
    "function [xAprox, iter] = bisection (a, b, tol, f)\n",
    "  % Validar la condicion para encontrar el cero\n",
    "    if (f(a) * f(b) < 0)\n",
    "      % Valor inicial de x\n",
    "      xAprox = (a + b) / 2;\n",
    "      iter = 0;\n",
    "      % Repetir hasta que el x se acerque al cero\n",
    "      while (abs(f(xAprox)) > tol)\n",
    "        % Verificar cual es el nuevo intervalo de la funcion\n",
    "        if (f(a) * f(xAprox) < 0)\n",
    "          b = xAprox;\n",
    "        else\n",
    "          a = xAprox;\n",
    "        endif\n",
    "        % Actualizar el valor de x y de las iteraciones\n",
    "        xAprox = (a + b) / 2;\n",
    "        iter = iter + 1;\n",
    "      endwhile\n",
    "    else\n",
    "      error(\"Condiciones no garantizan el cero de la funcion\");\n",
    "    endif\n",
    "    return;\n",
    "endfunction\n",
    "  \n",
    "\n",
    "% Main\n",
    "% Limites\n",
    "a = 0;\n",
    "b = 2;\n",
    "% Tolerancia\n",
    "tol = 0.1;\n",
    "% Funcion a la cual se le aplicara el metodo\n",
    "func = @(x) e^x-x-2;\n",
    "% Llamado de la funcion\n",
    "[xAprox, iter] = bisection (a, b, tol, func);\n",
    "printf('xAprox = %f\\nIteraciones = %i', xAprox, iter);"
   ]
  },
  {
   "cell_type": "markdown",
   "metadata": {
    "kernel": "octave"
   },
   "source": [
    "<h3><strong>f) C&oacute;digo en Python</strong></h3>"
   ]
  },
  {
   "cell_type": "code",
   "execution_count": 1,
   "metadata": {
    "kernel": "Python 3"
   },
   "outputs": [
    {
     "name": "stdout",
     "output_type": "stream",
     "text": [
      "xAprox = 1.125\n",
      "Iteraciones = 3\n"
     ]
    }
   ],
   "source": [
    "#Metodo de la Biseccion\n",
    "#Entradas:\n",
    "            #func: es la funcion a analizar\n",
    "            #a: es \"a\" valor inferior en el intervalo de la funcion [a, b]\n",
    "            #b: es \"b\" valor superior en el intervalo de la funcion [a, b]\n",
    "            #tol: es la tolerancia del algoritmo\n",
    "#Salidas:\n",
    "            #xAprox: es la solucion, valor aproximado de x\n",
    "            #_iter: es el numero de iteraciones\n",
    "\n",
    "import math\n",
    "\n",
    "def bisection(func, a, b, tol):\n",
    "    # Validar la condicion para encontrar el cero\n",
    "    if (func(a) * func(b) < 0):\n",
    "        # Valor inicial de x\n",
    "        xAprox = (a + b) / 2\n",
    "        _iter = 0\n",
    "\n",
    "        # Repetir hasta que el x se acerque al cero\n",
    "        while (abs(func(xAprox)) > tol):\n",
    "            # Verificar cual es el nuevo intervalo de la funcion\n",
    "            if (func(a) * func(xAprox) < 0):\n",
    "                b = xAprox\n",
    "            else:\n",
    "                a = xAprox\n",
    "\n",
    "            # Actualizar el valor de x y de las iteraciones\n",
    "            xAprox = (a + b) / 2\n",
    "            _iter += 1\n",
    "    else:\n",
    "        raise ValueError(\"Las condiciones no garantizan el cero de la función\")\n",
    "\n",
    "    return xAprox, _iter"
   ]
  },
  {
   "cell_type": "markdown",
   "metadata": {
    "kernel": "python3"
   },
   "source": [
    "<h3><strong>g) Ejemplo Num&eacute;rico</strong></h3>"
   ]
  },
  {
   "cell_type": "code",
   "execution_count": 2,
   "metadata": {
    "kernel": "Python 3"
   },
   "outputs": [
    {
     "name": "stdout",
     "output_type": "stream",
     "text": [
      "xAprox = 1.125\n",
      "Iteraciones = 3\n"
     ]
    }
   ],
   "source": [
    "# Prueba\n",
    "if __name__ == '__main__':\n",
    "    # Limites\n",
    "    a = 0\n",
    "    b = 2\n",
    "    # Tolerancia\n",
    "    tol = 0.1\n",
    "    # Funcion a la cual se le aplicara el metodo\n",
    "    func = lambda x: math.e**x - x - 2\n",
    "    # Llamado de la funcion\n",
    "    xAprox, _iter = bisection(func, a, b, tol)\n",
    "    print('xAprox = {}\\nIteraciones = {}'.format(xAprox, _iter))\n"
   ]
  },
  {
   "cell_type": "markdown",
   "metadata": {
    "kernel": "python3"
   },
   "source": [
    "<a id='newton'></a>\n",
    "<h2><span style=\"color: #993300;\"><span style=\"text-decoration: underline;\"><strong>M&eacute;todo 2:</strong> M&eacute;todo de Newton-Raphson</span></span></h2>"
   ]
  },
  {
   "cell_type": "markdown",
   "metadata": {
    "kernel": "python3"
   },
   "source": [
    "<h3><strong>a) Formulaci&oacute;n Matem&aacute;tica</strong></h3>"
   ]
  },
  {
   "cell_type": "markdown",
   "metadata": {
    "kernel": "python3"
   },
   "source": [
    "Existen funciones donde el método de la bisección no puede sernos de utilidad, por ejemplo, considere la función \n",
    "\n",
    "$f(x) = \\frac{1}{2} - \\frac{1}{1 + 200\\left |{x-1.05}\\right|}$, en el intervalo $[0.8, 1.8]$\n",
    "\n",
    "![title](img/imagenNewton.png)\n",
    "\n",
    "Las soluciones de la ecuación $f(x) = 0$ son $ξ-1 = 1.05 - \\frac{1}{200}$ y $ξ_2 = 1.05 + \\frac{1}{200}$, es decir ambas soluciones se ecuentran a una misma distancia y aunque existe una solución en el intervalo dado, no se cumple que: $f(a)f(b) < 0$, por lo que no se puede utilizar el método de la bisección.\n",
    "Por situaciones como la anterior, se buscan otros métodos iterativos que ayuden  a aproximar la solución de ecuaciones.\n",
    "El método de Newton-Raphson es un método abierto, en el sentido de que no está garantizada su convergencia global. La única manera de alcanzar la convergencia es seleccionar un valor inicial lo suficientemente cercano a la raíz buscada. Así, se ha de comenzar la iteración con un valor razonablemente cercano al cero (denominado punto de arranque o valor supuesto). La relativa cercanía del punto inicial a la raíz depende mucho de la naturaleza de la propia función; si ésta presenta múltiples puntos de inflexión o pendientes grandes en el entorno de la raíz, entonces las probabilidades de que el algoritmo diverja aumentan, lo cual exige seleccionar un valor supuesto cercano a la raíz.\n",
    "\n",
    "La interación de Newton-Raphson para aproximar la solución de $f(x) = 0$ esta dada por: \n",
    "\n",
    "$ \\begin{equation}\n",
    "       \\left\\{  \\begin{array}{lcc}\n",
    "                 x_{k+1} = x_{k}- \\frac{f(x_{k})}{f^{\\prime}(x_{k})} &  donde  & f^{\\prime}(x_{k}) \\neq 0 \\text{ para todo }  k \\geq 0 \\\\\n",
    "                 x_{0} \\in \\mathbb{R} & \\text {valor inicial} \n",
    "                \\end{array}\n",
    "     \\right.\n",
    "    \\end{equation}$"
   ]
  },
  {
   "cell_type": "markdown",
   "metadata": {
    "kernel": "python3"
   },
   "source": [
    "<h3><strong>b) Valores Iniciales</strong></h3>\n"
   ]
  },
  {
   "cell_type": "markdown",
   "metadata": {
    "kernel": "python3"
   },
   "source": [
    "Un valor $x_0$ que pertenezca al dominio de la función dada."
   ]
  },
  {
   "cell_type": "markdown",
   "metadata": {
    "kernel": "python3"
   },
   "source": [
    "<h3><strong>c) Ventajas y Desvantajas</strong></h3>"
   ]
  },
  {
   "cell_type": "markdown",
   "metadata": {
    "kernel": "python3"
   },
   "source": [
    "<p><span style=\"text-decoration: underline;\"><span style=\"text-decoration: underline;\"><strong>Ventajas:</strong></span></span></p>\n",
    "<p>&nbsp; &nbsp; &nbsp; &nbsp; &nbsp;<span style=\"text-decoration: underline;\">1-</span> Converge rápidamente.</p>\n",
    "<p>&nbsp; &nbsp; &nbsp; &nbsp; &nbsp;<span style=\"text-decoration: underline;\">2-</span> Proporciona una buena precisión. </p>\n",
    "<p><span style=\"text-decoration: underline;\"><strong>Desventajas:</strong></span></p>\n",
    "<p>&nbsp; &nbsp; &nbsp; &nbsp; &nbsp;<span style=\"text-decoration: underline;\">1-</span> No existe un criterio general de convergencia, por lo que no siempre esta asegurada. </p>\n",
    "<p>&nbsp; &nbsp; &nbsp; &nbsp; &nbsp;<span style=\"text-decoration: underline;\">2-</span> Depende mucho de la naturaleza de la función.</p>"
   ]
  },
  {
   "cell_type": "markdown",
   "metadata": {
    "kernel": "python3"
   },
   "source": [
    "<h3><strong>d) Pasos del m&eacute;todo (Pseudoc&oacute;digo)</strong></h3>"
   ]
  },
  {
   "cell_type": "markdown",
   "metadata": {
    "kernel": "Python 3"
   },
   "source": [
    "Iniciar newtonRaphson(f, x0, tol)\n",
    "    Valor incial de x\n",
    "    xAprox = np.array([x0])\n",
    "    _iter = 0\n",
    "\n",
    "   Repetir hasta que x se haya acercado al cero de la funcion\n",
    "    mientras (abs(f(xAprox[-1])) > tol)\n",
    "        Obtener el valor de x_k\n",
    "        xk = xAprox[-1]\n",
    "        Derivar la funcion\n",
    "        df = derivar(f, xk, dx=1e-6)\n",
    "        Actualizar el valor de x y las iteraciones\n",
    "        xAprox = append(xAprox, xk - f(xk) / df)\n",
    "        _iter += 1\n",
    "\n",
    "   mostrar el resultado xAprox, _iter"
   ]
  },
  {
   "cell_type": "markdown",
   "metadata": {
    "kernel": "python3"
   },
   "source": [
    "<h3><strong>e) C&oacute;digo en GNU Octave</strong></h3>"
   ]
  },
  {
   "cell_type": "code",
   "execution_count": null,
   "metadata": {
    "kernel": "octave"
   },
   "outputs": [],
   "source": [
    "clear;\n",
    "close all;\n",
    "\n",
    "%{\n",
    "    Metodo de Newton Raphson\n",
    "    @param func: funcion a la cual se le aplicara el algoritmo\n",
    "    @param x0: valor inicial\n",
    "    @param tol: tolerencia del algoritmo\n",
    "\n",
    "    @return xAprox: valor aproximado de x\n",
    "    @return iter: iteraciones necesarias para aproximar x\n",
    "%}\n",
    "\n",
    "function [xAprox, iter] = newtonRaphson (func, x0, tol)\n",
    "\n",
    "    % Valor incial de x\n",
    "    xAprox(1) = x0;\n",
    "    iter = 0;\n",
    "\n",
    "    % Convertir la funcion a programacion simbolica\n",
    "    syms f(x);\n",
    "    f(x) = func;\n",
    "    \n",
    "    % Repetir hasta que x se haya acercado al cero de la funcion\n",
    "    while (abs(func(xAprox(end))) > tol)\n",
    "        % Obtener el valor de xk\n",
    "        xk = xAprox(end);\n",
    "        % Derivar la funcion\n",
    "        df = diff(f);\n",
    "        % Actualizar el valor de x y las iteraciones\n",
    "        xAprox(end + 1) = xk - func(xk) / double(df(xk));\n",
    "        iter = iter + 1;\n",
    "    endwhile\n",
    "\n",
    "    return;\n",
    "endfunction\n",
    "\n",
    "\n",
    "% Prueba\n",
    "% Valor inicial\n",
    "x0 = 3 / 4;\n",
    "% Tolerancia\n",
    "tol = 0.0000000001;\n",
    "% Funcion a la cual se le aplica el metodo\n",
    "func = @(x) cos(2 * x).^2 - x.^2;\n",
    "% Llamado de la funcion\n",
    "[xAprox, iter] = newtonRaphson (func, x0, tol);\n",
    "printf('xAprox = [');\n",
    "printf(' %f ', xAprox);\n",
    "printf(']\\nIteraciones = %i', iter);\n"
   ]
  },
  {
   "cell_type": "markdown",
   "metadata": {
    "kernel": "python3"
   },
   "source": [
    "<h3><strong>f) C&oacute;digo en Python</strong></h3>"
   ]
  },
  {
   "cell_type": "code",
   "execution_count": 2,
   "metadata": {
    "kernel": "Python 3"
   },
   "outputs": [
    {
     "name": "stdout",
     "output_type": "stream",
     "text": [
      "xAprox = 0.5149332646611293\n",
      "Iteraciones = 4\n"
     ]
    }
   ],
   "source": [
    "#Metodo de Newton-Raphson\n",
    "#Entradas:\n",
    "    #func: es la funcion a analizar\n",
    "    #x0: valor inicial\n",
    "    #tol: es la tolerancia del algoritmo\n",
    "#Salidas:\n",
    "    #xAprox: es la solucion, valor aproximado de x\n",
    "    #_iter: es el numero de iteraciones\n",
    "\n",
    "import math\n",
    "import numpy as np\n",
    "from scipy import misc\n",
    "\n",
    "def newtonRaphson(f, x0, tol):\n",
    "    # Valor incial de x\n",
    "    xAprox = np.array([x0])\n",
    "    _iter = 0\n",
    "\n",
    "    # Repetir hasta que x se haya acercado al cero de la funcion\n",
    "    while (abs(f(xAprox[-1])) > tol):\n",
    "        # Obtener el valor de x_k\n",
    "        xk = xAprox[-1]\n",
    "        # Derivar la funcion\n",
    "        df = misc.derivative(f, xk, dx=1e-6)\n",
    "        # Actualizar el valor de x y las iteraciones\n",
    "        xAprox = np.append(xAprox, xk - f(xk) / df)\n",
    "        _iter += 1\n",
    "\n",
    "    return xAprox, _iter\n",
    "\n",
    "# Prueba\n",
    "if __name__ == '__main__':\n",
    "    # Valor inicial\n",
    "    x0 = 3 / 4\n",
    "    # Tolerancia\n",
    "    tol = 0.0000000001\n",
    "    # Funcion a la cual se le aplica el metodo\n",
    "    func = lambda x: (np.cos(2 * x))**2 - x**2\n",
    "    # Llamado de la funcion\n",
    "    xAprox, _iter = newtonRaphson(func, x0, tol)\n",
    "    print('xAprox = {}\\nIteraciones = {}'.format(xAprox[-1], _iter))"
   ]
  },
  {
   "cell_type": "markdown",
   "metadata": {
    "kernel": "python3"
   },
   "source": [
    "<h3><strong>g) Ejemplo Num&eacute;rico</strong></h3>"
   ]
  },
  {
   "cell_type": "markdown",
   "metadata": {
    "kernel": "python3"
   },
   "source": [
    "<a id='secante'></a>\n",
    "<h2><span style=\"color: #993300;\"><span style=\"text-decoration: underline;\"><strong>M&eacute;todo 3:</strong> M&eacute;todo de la Secante</span></span></h2>"
   ]
  },
  {
   "cell_type": "markdown",
   "metadata": {
    "kernel": "python3"
   },
   "source": [
    "<h3><strong>a) Formulaci&oacute;n Matem&aacute;tica</strong></h3>"
   ]
  },
  {
   "cell_type": "markdown",
   "metadata": {
    "kernel": "python3"
   },
   "source": [
    "El método de Newton-Raphson aproxima una solución de la ecuación $f(x)=0$ considerando la primera la primera derivada de $f$. Un problema potencial en la implementación del método de Newton-Raphson es la evaluación de la derivada. Aunque esto no es un inconveniente para los polinomios ni para muchas otras funciones, existen algunas funciones cuyas derivadas en ocasiones resultan muy difíciles de calcular. Por esta razón es intuitivo tratar de conseguir una aproximación para la derivada $f'$, y modificar el método de Newton-Raphson.\n",
    "Una manera de aproximar el valor de $f'$es a través de la fórmula de la pendiente:\n",
    "\n",
    "$f^{\\prime}(x_k) \\approx \\frac{f(x_k)-f(x_{k-1})}{x_k - x_{k-1}}$\n",
    "\n",
    "Entonces realizando la modificación al método de Newton se obtiene el método de la secante que se define como:\n",
    "\n",
    "$x_{k+1} = x_k - (\\frac{x_k - x_{k-1}}{f(x_k)-f(x_{k-1})})f(x_k)$\n",
    "\n",
    "para $k = 1, 2, . . . $, donde $x0$ y $x1$ son los valores iniciales y se asume que $f(x_k) - f(x_{k-1}) \\neq 0$ para todo $k \\in{} 1$.\n"
   ]
  },
  {
   "cell_type": "markdown",
   "metadata": {
    "kernel": "python3"
   },
   "source": [
    "<h3><strong>b) Valores Iniciales</strong></h3>\n"
   ]
  },
  {
   "cell_type": "markdown",
   "metadata": {
    "kernel": "Python 3"
   },
   "source": [
    "Están dados por $x_0$ y $x_1$ según el dominio en el que se quiera realizar el análisis de la función dada. "
   ]
  },
  {
   "cell_type": "markdown",
   "metadata": {
    "kernel": "python3"
   },
   "source": [
    "<h3><strong>c) Ventajas y Desvantajas</strong></h3>"
   ]
  },
  {
   "cell_type": "markdown",
   "metadata": {
    "kernel": "python3"
   },
   "source": [
    "<p><span style=\"text-decoration: underline;\"><span style=\"text-decoration: underline;\"><strong>Ventajas:</strong></span></span></p>\n",
    "<p>&nbsp; &nbsp; &nbsp; &nbsp; &nbsp;<span style=\"text-decoration: underline;\">1-</span> Se puede aplicar cuando la función $f(x)$ es demasiado compleja como para obtener su derivada.</p>\n",
    "<p>&nbsp; &nbsp; &nbsp; &nbsp; &nbsp;<span style=\"text-decoration: underline;\">2-</span> El método de la secante es un proceso interativo y por lo mismo encuentra la aproximación casi con la misma rápidez que el método de Newton-Raphson. </p>\n",
    "<p>&nbsp; &nbsp; &nbsp; &nbsp; &nbsp;<span style=\"text-decoration: underline;\">3-</span> No necesita calcular derivadas. </p>\n",
    "<p><span style=\"text-decoration: underline;\"><strong>Desventajas:</strong></span></p>\n",
    "<p>&nbsp; &nbsp; &nbsp; &nbsp; &nbsp;<span style=\"text-decoration: underline;\">1-</span> Al ser un proceso iterativo, corre el mismo riesgo que Newton-Raphson de no converger a la raíz. </p>"
   ]
  },
  {
   "cell_type": "markdown",
   "metadata": {
    "kernel": "python3"
   },
   "source": [
    "<h3><strong>d) Pasos del m&eacute;todo (Pseudoc&oacute;digo)</strong></h3>"
   ]
  },
  {
   "cell_type": "markdown",
   "metadata": {
    "kernel": "Python 3"
   },
   "source": [
    "Iniciar def secant(func, xk_1, xk, tol). Repetir hasta que x el error sea mas pequeno que la tolerancia, mientras (abs(xk - xk_1) / abs(xk)) > tol, entonces: xTemp = xk - (xk - xk_1) / (func(xk) - func(xk_1)) * func(xk) y cctualizar el valor anterior y el valor actual xk_1 = xk, xk = xTemp, actualizar las iteraciones _iter += 1 y finalmente mostrar el resultado  xk."
   ]
  },
  {
   "cell_type": "markdown",
   "metadata": {
    "kernel": "python3"
   },
   "source": [
    "<h3><strong>e) C&oacute;digo en GNU Octave</strong></h3>"
   ]
  },
  {
   "cell_type": "code",
   "execution_count": null,
   "metadata": {
    "kernel": "octave"
   },
   "outputs": [],
   "source": [
    "clear;\n",
    "close all;\n",
    "\n",
    "%{\n",
    "    Metodo de la Secante\n",
    "    Entradas\n",
    "      @param xk_1: valor inicial en la iteracion 0\n",
    "      @param xk: valor inicial en la iteracion 1\n",
    "      @param tol: tolerencia del algoritmo\n",
    "      @param f: funcion a la cual se le aplicara el algoritmo\n",
    "    Salidas\n",
    "      @return xk: valor aproximado de x en la iteracion k\n",
    "      @return iter: iteraciones necesarias para aproximar x\n",
    "%}\n",
    "\n",
    "function [xk, iter] = secant (xk_1, xk, tol, f)\n",
    "  iter = 1;\n",
    "  % Repetir hasta que x el error sea mas pequenio que la tolerancia\n",
    "  while (abs(xk - xk_1) / abs(xk)) > tol\n",
    "    % Nuevo valor de x\n",
    "    xTemp = xk - (xk - xk_1) / (f(xk) - f(xk_1)) * f(xk);\n",
    "    % Actualizar el valor anterior y el valor actual\n",
    "    xk_1 = xk;\n",
    "    xk = xTemp;\n",
    "    % Actualizar las iteraciones\n",
    "    iter = iter + 1;\n",
    "  endwhile\n",
    "  return;\n",
    "endfunction\n",
    "\n",
    "\n",
    "% Prueba\n",
    "% Valores iniciales\n",
    "x0 = 0;\n",
    "x1 = 1;\n",
    "% Tolerancia\n",
    "tol = 0.01;\n",
    "% Funcion a la cual se le aplica el metodo\n",
    "func = @(x) e^(-x^2) - x;\n",
    "% Llamado de la funcion\n",
    "[xk, iter] = secant (x0, x1, tol, func);\n",
    "printf('xk = %f\\nIteraciones = %i', xk, iter);"
   ]
  },
  {
   "cell_type": "markdown",
   "metadata": {
    "kernel": "python3"
   },
   "source": [
    "<h3><strong>f) C&oacute;digo en Python</strong></h3>"
   ]
  },
  {
   "cell_type": "code",
   "execution_count": 3,
   "metadata": {
    "kernel": "Python 3"
   },
   "outputs": [
    {
     "name": "stdout",
     "output_type": "stream",
     "text": [
      "xk = 0.6529172652472789\n",
      "Iteraciones = 4\n"
     ]
    }
   ],
   "source": [
    "#Metodo de la Secante\n",
    "#Entradas:\n",
    "    #func: es la funcion a analizar\n",
    "    #xk_1: valor inicial en la iteracion 0\n",
    "    #xk: valor inicial en la iteracion 1\n",
    "    #tol: es la tolerancia del algoritmo\n",
    "#Salidas:\n",
    "    #xk: es la solucion, valor aproximado de x\n",
    "    #_iter: es el numero de iteraciones\n",
    "\n",
    "import math\n",
    "\n",
    "def secant(func, xk_1, xk, tol):\n",
    "    _iter = 1\n",
    "\n",
    "    # Repetir hasta que x el error sea mas pequeno que la tolerancia\n",
    "    while (abs(xk - xk_1) / abs(xk)) > tol:\n",
    "        # Nuevo valor de x\n",
    "        xTemp = xk - (xk - xk_1) / (func(xk) - func(xk_1)) * func(xk)\n",
    "        # Actualizar el valor anterior y el valor actual\n",
    "        xk_1 = xk\n",
    "        xk = xTemp\n",
    "        # Actualizar las iteraciones\n",
    "        _iter += 1\n",
    "\n",
    "    return xk, _iter\n",
    "\n",
    "# Prueba\n",
    "if __name__ == '__main__':\n",
    "    # Valores iniciales\n",
    "    x0 = 0\n",
    "    x1 = 1\n",
    "    # Tolerancia\n",
    "    tol = 0.01\n",
    "    # Funcion a la cual se le aplica el metodo\n",
    "    func = lambda x: math.e**(-x**2) - x\n",
    "    # Llamado de la funcion\n",
    "    xk, _iter = secant(func, x0, x1, tol)\n",
    "    print('xk = {}\\nIteraciones = {}'.format(xk, _iter))"
   ]
  },
  {
   "cell_type": "markdown",
   "metadata": {
    "kernel": "python3"
   },
   "source": [
    "<h3><strong>g) Ejemplo Num&eacute;rico</strong></h3>"
   ]
  },
  {
   "cell_type": "markdown",
   "metadata": {
    "kernel": "Python 3"
   },
   "source": [
    "<a id='falsaposicion'></a>\n",
    "<h2><span style=\"color: #993300;\"><span style=\"text-decoration: underline;\"><strong>M&eacute;todo 4:</strong> M&eacute;todo de la Falsa Posici&oacute;n</span></span></h2>"
   ]
  },
  {
   "cell_type": "markdown",
   "metadata": {
    "kernel": "Python 3"
   },
   "source": [
    "<h3><strong>a) Formulaci&oacute;n Matem&aacute;tica</strong></h3>"
   ]
  },
  {
   "cell_type": "markdown",
   "metadata": {
    "kernel": "Python 3"
   },
   "source": [
    "Aún cuando el método de la bisección es una técnica perfectamente válida para determinar raíces, su método de aproximación por fuerza bruta es relativamente ineficiente. Un inconveniente del método de la bisección es que al dividir el intervalo de $x_a$ a $x_b$ en mitades iguales no se toma en consideración las magnitudes de $f(x_a)$ y $f(x_b)$. Este método combina el método de la bisección y el método de la secante con el fin de acelerar la convergencia.\n",
    "\n",
    "$    \n",
    "\\begin{equation}\n",
    "    x_{r} = x_{b} - \\left(\\frac{ f(x_{b})(x_a - x_b)} {f(x_{a}) - f(x_{b}}\\right)\n",
    "\\end{equation}\n",
    "$\n",
    "\n"
   ]
  },
  {
   "cell_type": "markdown",
   "metadata": {
    "kernel": "Python 3"
   },
   "source": [
    "<h3><strong>b) Valores Iniciales</strong></h3>"
   ]
  },
  {
   "cell_type": "markdown",
   "metadata": {
    "kernel": "Python 3"
   },
   "source": [
    "Considerando una ecuación de la forma $f(x) = 0$ en un intervalo $[a, b]$ donde $x_a = a$ y $x_b = b$."
   ]
  },
  {
   "cell_type": "markdown",
   "metadata": {
    "kernel": "Python 3"
   },
   "source": [
    "<h3><strong>c) Ventajas y Desvantajas</strong></h3>"
   ]
  },
  {
   "cell_type": "markdown",
   "metadata": {
    "kernel": "Python 3"
   },
   "source": [
    "<p><span style=\"text-decoration: underline;\"><span style=\"text-decoration: underline;\"><strong>Ventajas:</strong></span></span></p>\n",
    "<p>&nbsp; &nbsp; &nbsp; &nbsp; &nbsp;<span style=\"text-decoration: underline;\">1-</span> No diverge siendo una mejora para el método de la secante.</p>\n",
    "<p>&nbsp; &nbsp; &nbsp; &nbsp; &nbsp;<span style=\"text-decoration: underline;\">2-</span> Mejora notablemente la elección del intervalo respecto al método de la bisección. </p>\n",
    "<p><span style=\"text-decoration: underline;\"><strong>Desventajas:</strong></span></p>\n",
    "<p>&nbsp; &nbsp; &nbsp; &nbsp; &nbsp;<span style=\"text-decoration: underline;\">1-</span> Converge lentamente. </p>\n",
    "<p>&nbsp; &nbsp; &nbsp; &nbsp; &nbsp;<span style=\"text-decoration: underline;\">2-</span> Aunque este métodoparecería ser siempre la mejor solución hay casos donde es inficiente y el método de la bisección ofrece mejores resultados.</p>"
   ]
  },
  {
   "cell_type": "markdown",
   "metadata": {
    "kernel": "Python 3"
   },
   "source": [
    "<h3><strong>d) Pasos del m&eacute;todo (Pseudoc&oacute;digo)</strong></h3>"
   ]
  },
  {
   "cell_type": "markdown",
   "metadata": {
    "kernel": "Python 3"
   },
   "source": [
    "Iniciar falsePosition(a, b, tol, f), validar la condicion para encontrar el cero, si se cumple entonces: xk_1 = b, xk = b - (b - a) / (f(b) - f(a)) * f(b). Repetir hasta que el x se acerque al cero (abs((xk - xk_1) / xk)) > tol, verificar cual es el nuevo intervalo de la funcion y el valor de ck. Si se cumple que: (f(a) * f(xk) < 0), entonces: b = xk, ck = a, de lo contrario: a = xk, ck = b. Una vez hecho eso se procede a calcular el nuevo valor con el metodo de la secante: xAprox = xk - (xk - ck) / (f(xk) - f(ck)) * f(xk), xk_1 = xk, xk = xAprox. Si no, se envia un mensaje de error. Finalmente se muerta el resultado xk."
   ]
  },
  {
   "cell_type": "markdown",
   "metadata": {
    "kernel": "Python 3"
   },
   "source": [
    "<h3><strong>e) C&oacute;digo en GNU Octave</strong></h3>"
   ]
  },
  {
   "cell_type": "code",
   "execution_count": null,
   "metadata": {
    "kernel": "octave"
   },
   "outputs": [],
   "source": [
    "clear;\n",
    "close all;\n",
    "\n",
    "%{\n",
    "    Metodo de la Falsa Posicion\n",
    "    Entradas\n",
    "      @param a: limite inferior del intervalo\n",
    "      @param b: limite superior del intervalo\n",
    "      @param tol: tolerencia del algoritmo\n",
    "      @param f: funcion a la cual se le aplicara el algoritmo\n",
    "    Salidas\n",
    "      @return xk: valor aproximado de x\n",
    "      @return iter: iteraciones necesarias para aproximar x\n",
    "%}\n",
    "\n",
    "\n",
    "function [xk, iter] = falsePosition (a, b, tol, f)\n",
    "  % Validar la condicion para encontrar el cero\n",
    "  if (f(a) * f(b) < 0)\n",
    "    % Valor inicial de x_k y x_{k-1}\n",
    "    xk_1 = b;\n",
    "    xk = b - (b - a) / (f(b) - f(a)) * f(b);\n",
    "    iter = 2;\n",
    "    % Repetir hasta que el x se acerque al cero\n",
    "    while ((abs((xk - xk_1) / xk)) > tol)\n",
    "      ck = 0;\n",
    "      % Verificar cual es el nuevo intervalo de la funcion\n",
    "      % y el valor de ck\n",
    "      if (f(a) * f(xk) < 0)\n",
    "        b = xk;\n",
    "        ck = a;\n",
    "      else\n",
    "        a = xk;\n",
    "        ck = b;\n",
    "      endif\n",
    "      % Calcular el nuevo valor con el metodo de la secante\n",
    "      xAprox = xk - (xk - ck) / (f(xk) - f(ck)) * f(xk);\n",
    "      xk_1 = xk;\n",
    "      xk = xAprox;\n",
    "      iter = iter + 1;\n",
    "    endwhile\n",
    "  else\n",
    "    error(\"Condiciones no garantizan el cero de la funcion\");\n",
    "  endif\n",
    "  return;\n",
    "endfunction\n",
    "\n",
    "\n",
    "% Main\n",
    "% Limites\n",
    "a = 0.5;\n",
    "b = pi / 4;\n",
    "% Tolerancia\n",
    "tol = 0.00001;\n",
    "% Funcion a la cual se le aplicara el metodo\n",
    "func = @(x) cos(x)-x;\n",
    "% Llamado de la funcion\n",
    "[xk, iter] = falsePosition (a, b, tol, func);\n",
    "printf('xk = %f\\nIteraciones = %i', xk, iter);"
   ]
  },
  {
   "cell_type": "markdown",
   "metadata": {
    "kernel": "Python 3"
   },
   "source": [
    "<h3><strong>f) C&oacute;digo en Python</strong></h3>"
   ]
  },
  {
   "cell_type": "code",
   "execution_count": 1,
   "metadata": {
    "kernel": "Python 3"
   },
   "outputs": [],
   "source": [
    "#Metodo de la Falsa Posicion\n",
    "#Entradas\n",
    "    #a: limite inferior del intervalo\n",
    "    #b: limite superior del intervalo\n",
    "    #tol: tolerencia del algoritmo\n",
    "    #f: funcion a la cual se le aplicara el algoritmo\n",
    "#Salidas\n",
    "    #xk: valor aproximado de x\n",
    "    #_iter: iteraciones necesarias para aproximar x\n",
    "\n",
    "import math\n",
    "\n",
    "def falsePosition(a, b, tol, f):\n",
    "    \n",
    "    # Validar la condicion para encontrar el cero\n",
    "    if (f(a) * f(b) < 0):\n",
    "        # Valor inicial de x_k y x_{k-1}\n",
    "        xk_1 = b\n",
    "        xk = b - (b - a) / (f(b) - f(a)) * f(b)\n",
    "        _iter = 2\n",
    "\n",
    "        # Repetir hasta que el x se acerque al cero\n",
    "        while (abs((xk - xk_1) / xk)) > tol:\n",
    "            # Verificar cual es el nuevo intervalo de la funcion\n",
    "            # y el valor de ck\n",
    "            if (f(a) * f(xk) < 0):\n",
    "                b = xk\n",
    "                ck = a\n",
    "            else:\n",
    "                a = xk\n",
    "                ck = b\n",
    "\n",
    "            # Calcular el nuevo valor con el metodo de la secante\n",
    "            xAprox = xk - (xk - ck) / (f(xk) - f(ck)) * f(xk)\n",
    "            xk_1 = xk\n",
    "            xk = xAprox\n",
    "            _iter += 1;\n",
    "    else:\n",
    "        raise ValueError(\"Condiciones no garantizan el cero de la función\")\n",
    "\n",
    "    return xk, _iter"
   ]
  },
  {
   "cell_type": "markdown",
   "metadata": {
    "kernel": "Python 3"
   },
   "source": [
    "<h3><strong>g) Ejemplo Num&eacute;rico</strong></h3>"
   ]
  },
  {
   "cell_type": "code",
   "execution_count": 2,
   "metadata": {
    "kernel": "Python 3"
   },
   "outputs": [
    {
     "name": "stdout",
     "output_type": "stream",
     "text": [
      "xk = 0.7390851305265789\n",
      "Iteraciones = 5\n"
     ]
    }
   ],
   "source": [
    "#Prueba\n",
    "if __name__ == '__main__':\n",
    "    # Limites\n",
    "    a = 0.5\n",
    "    b = math.pi / 4\n",
    "    # Tolerancia\n",
    "    tol = 0.00001\n",
    "    # Funcion a la cual se le aplicara el metodo\n",
    "    func = lambda x: math.cos(x) - x\n",
    "    # Llamado de la funcion\n",
    "    xk, _iter = falsePosition(a, b, tol, func)\n",
    "    print('xk = {}\\nIteraciones = {}'.format(xk, _iter))"
   ]
  },
  {
   "cell_type": "markdown",
   "metadata": {
    "kernel": "Python 3"
   },
   "source": [
    "<a id='puntofijo'></a>\n",
    "<h2><span style=\"color: #993300;\"><span style=\"text-decoration: underline;\"><strong>M&eacute;todo 5:</strong> M&eacute;todo del Punto Fijo</span></span></h2>"
   ]
  },
  {
   "cell_type": "markdown",
   "metadata": {
    "kernel": "Python 3"
   },
   "source": [
    "<h3><strong>a) Formulaci&oacute;n Matem&aacute;tica</strong></h3>"
   ]
  },
  {
   "cell_type": "markdown",
   "metadata": {
    "kernel": "Python 3"
   },
   "source": [
    "Sea una función de variable real $f(x)$. Se dice que $\\xi \\in \\Re$ es un punto fijo de $f$  si y solo si $f(\\xi) = \\xi$.\n",
    "El teorema del Punto Fijo de Brouwer garantiza la existencia de un punto fijo bajo unas condiciones dadas.\n",
    "Sea $\\phi$ uan función real, definida y continua sobre un intervalo $[a, b]$ de  $\\Re$ y $\\phi(x) \\in [a, b]$ para todo $x \\in [a, b]$. Entonces existe $\\xi$ en $[a, b]$, tal que $\\xi = \\phi(\\xi)$.\n",
    "Además para que el método de punto fijo converja, se debe garantizar la existencia de un único punto fijo en un intervalo establecido. Sea $\\phi$ una función que cumple las condiciones del teorema de Brouwer. Si además $\\phi'(x)$ existe en $]a, b[$ y existe una constante positiva $L \\prec 1$ tal que $|\\phi'(x)| \\leq L$ para todo $x \\in ]a, b[$, entonces el punto fijo en $]a, b[$ es único.\n",
    "\n",
    "Podemos definir el teorema del punto fijo como:  \n",
    "                                                $x_{k+1} = \\phi(x_k)$, para todo $k = 0, 1, 2, 3...,$  \n",
    "esto es conocido como el método iterativo del punto fijo."
   ]
  },
  {
   "cell_type": "markdown",
   "metadata": {
    "kernel": "Python 3"
   },
   "source": [
    "<h3><strong>b) Valores Iniciales</strong></h3>"
   ]
  },
  {
   "cell_type": "markdown",
   "metadata": {
    "kernel": "Python 3"
   },
   "source": [
    "Un valor culquiera $x_0 \\in [a, b]$."
   ]
  },
  {
   "cell_type": "markdown",
   "metadata": {
    "kernel": "Python 3"
   },
   "source": [
    "<h3><strong>c) Ventajas y Desvantajas</strong></h3>"
   ]
  },
  {
   "cell_type": "markdown",
   "metadata": {
    "kernel": "Python 3"
   },
   "source": [
    "<p><span style=\"text-decoration: underline;\"><span style=\"text-decoration: underline;\"><strong>Ventajas:</strong></span></span></p>\n",
    "<p>&nbsp; &nbsp; &nbsp; &nbsp; &nbsp;<span style=\"text-decoration: underline;\">1-</span> Converge con rapidez.</p>\n",
    "<p>&nbsp; &nbsp; &nbsp; &nbsp; &nbsp;<span style=\"text-decoration: underline;\">2-</span> Posee condiciones para asegurar la convergencia.</p>\n",
    "<p><span style=\"text-decoration: underline;\"><strong>Desventajas:</strong></span></p>\n",
    "<p>&nbsp; &nbsp; &nbsp; &nbsp; &nbsp;<span style=\"text-decoration: underline;\">1-</span> La convergencia depende de la magnitud de $\\phi'(x)$. </p>\n",
    "<p>&nbsp; &nbsp; &nbsp; &nbsp; &nbsp;<span style=\"text-decoration: underline;\">2-</span> Necesidad de construir funciones $\\phi(x)$ para iterar.</p>"
   ]
  },
  {
   "cell_type": "markdown",
   "metadata": {
    "kernel": "Python 3"
   },
   "source": [
    "<h3><strong>d) Pasos del m&eacute;todo (Pseudoc&oacute;digo)</strong></h3>"
   ]
  },
  {
   "cell_type": "markdown",
   "metadata": {
    "kernel": "Python 3"
   },
   "source": []
  },
  {
   "cell_type": "markdown",
   "metadata": {
    "kernel": "Python 3"
   },
   "source": [
    "<h3><strong>e) C&oacute;digo en GNU Octave</strong></h3>"
   ]
  },
  {
   "cell_type": "code",
   "execution_count": null,
   "metadata": {
    "kernel": "octave"
   },
   "outputs": [],
   "source": [
    "clear;\n",
    "close all;\n",
    "\n",
    "%{\n",
    "    Metodo del Punto Fijo\n",
    "    Entradas\n",
    "      @param gx: funcion despejada\n",
    "      @param a:  valor inicial\n",
    "      @param tolera:  tolerencia del algoritmo\n",
    "      @param n: numero de iteraciones\n",
    "    Salidas\n",
    "      @return respuesta: punto fijo solucion\n",
    "%}\n",
    "\n",
    "function respuesta = PFijo(gx,a,tolera, n)\n",
    "    n = 15;\n",
    "    i = 1;\n",
    "    b = gx(a);\n",
    "    e = [];\n",
    "    tramo = abs(b - a);\n",
    "    % Calcula el valor mas aproximado\n",
    "    while(tramo >= tolera & i <= n)\n",
    "        a = b;\n",
    "        b = gx(a);\n",
    "        e = [e b];\n",
    "        tramo = abs(b - a);\n",
    "        i = i+1;\n",
    "    endwhile\n",
    "    % Valor final\n",
    "    respuesta = b;\n",
    "endfunction\n",
    "\n",
    "% Prueba\n",
    "% funcion gx\n",
    "gx = @(x) exp(-x);\n",
    "% Valores iniciales \n",
    "a = 0 ; \n",
    "b = 1;\n",
    "% Tolerancia del algoritmo\n",
    "tolera = 10e-8;\n",
    "tramos = 101;\n",
    "% Llamadoa de la funcion\n",
    "respuesta = PFijo(gx,a,tolera);\n",
    "printf('Punto Fijo = %f\\n', respuesta);"
   ]
  },
  {
   "cell_type": "markdown",
   "metadata": {
    "kernel": "Python 3"
   },
   "source": [
    "<h3><strong>f) C&oacute;digo en Python</strong></h3>"
   ]
  },
  {
   "cell_type": "code",
   "execution_count": 6,
   "metadata": {
    "kernel": "Python 3"
   },
   "outputs": [],
   "source": [
    "#Metodo del Punto Fijo\n",
    "#Entradas:\n",
    "    #g(x): se obtiene al despejar una x de f(x)\n",
    "    #n: iteraciones\n",
    "    #a: valor inicial\n",
    "#Salidas:\n",
    "    #respuesta: punto fijo encontrado\n",
    "\n",
    "\n",
    "import numpy as np\n",
    "\n",
    "def puntofijo(gx, a, tolera, n = 15):\n",
    "    i = 1\n",
    "    b = gx(a)\n",
    "    tramo = abs(b-a)\n",
    "    while(tramo >= tolera and i <= n):\n",
    "        a = b\n",
    "        b = gx(a)\n",
    "        tramo = abs(b - a)\n",
    "        i = i + 1\n",
    "    respuesta = b\n",
    "    return(respuesta)"
   ]
  },
  {
   "cell_type": "markdown",
   "metadata": {
    "kernel": "Python 3"
   },
   "source": [
    "<h3><strong>g) Ejemplo Num&eacute;rico</strong></h3>"
   ]
  },
  {
   "cell_type": "code",
   "execution_count": 7,
   "metadata": {
    "kernel": "Python 3"
   },
   "outputs": [
    {
     "name": "stdout",
     "output_type": "stream",
     "text": [
      "Punto fijo:  0.5670678983907884\n"
     ]
    }
   ],
   "source": [
    "# Prueba\n",
    "# fx: funcion ingresada\n",
    "fx = lambda x: np.exp(-x) - x\n",
    "# gx: funcio despejada\n",
    "gx = lambda x: np.exp(-x)\n",
    "\n",
    "a = 0 ; b = 1\n",
    "tolera = 10e-8\n",
    "tramos = 101\n",
    "\n",
    "respuesta = puntofijo(gx,a,tolera)\n",
    "print(\"Punto fijo: \", respuesta)"
   ]
  },
  {
   "cell_type": "markdown",
   "metadata": {
    "kernel": "Python 3"
   },
   "source": [
    "<a id='muler'></a>\n",
    "<h2><span style=\"color: #993300;\"><span style=\"text-decoration: underline;\"><strong>M&eacute;todo 6:</strong> M&eacute;todo de Muller</span></span></h2>"
   ]
  },
  {
   "cell_type": "markdown",
   "metadata": {
    "kernel": "Python 3"
   },
   "source": [
    "<h3><strong>a) Formulaci&oacute;n Matem&aacute;tica</strong></h3>"
   ]
  },
  {
   "cell_type": "markdown",
   "metadata": {
    "kernel": "Python 3"
   },
   "source": [
    "El método de Müller es similar al método de la Secante. El método de Muller considera tres aproximaciones iniciales $x_0$, $x_1$, $x_2$ y luego se construye la cuarta aproximacióon, como la intersección con el eje $x$ de la parábola que pasa por lo puntos $(x_0, f(x_0))$, $(x_1, f(x_1))$, $(x_2, f(x_2))$. De esta forma, se puede considerar la forma de la parábola dada por: $p(x) = a(x - x_2)^{2} + b(x - x_2) + c$, donde la siguiente paroximación $x_3$ satisface $p(x_3) = 0$.\n",
    "\n",
    "Como $p(x_0) = f(x_0)$, $p(x_1) = f(x_1)$ y $p(x_2) = f(x_2)$, entonces las constantes $a$, $b$ y $c$ pueden ser determinadas resolviendo el sistema:\n",
    "\n",
    "$ \\begin{equation}\n",
    "       \\left\\{  \\begin{array}{lcc}\n",
    "                 c = f(x_2) \\\\\n",
    "                 b = \\frac {(x_0 - x_2)^{2}[f(x_1) - f(x_2)] - (x_1 - x_2)^{2}[f(x_0) - f(x_2)]} {(x_0 - x_1)(x_0 - x_2)(x_1 - x_2)} \\\\\n",
    "                 a = \\frac {(x_1 - x_2)[f(x_0) - f(x_2)] - (x_0 - x_2)[f(x_1) - f(x_2)]} {(x_0 - x_1)(x_0 - x_2)(x_1 - x_2)}\n",
    "                \\end{array}\n",
    "     \\right.\n",
    "    \\end{equation}$\n",
    "\n",
    "Luego la raíz $r$ de $p(x)$ está dada por la fórmula cuadrática racionalizada: \n",
    "\n",
    "$ r = x_2 - \\frac {2c} {b + sgn(b)\\sqrt{b^{2} - 4ac}}$\n",
    "\n",
    "Así, si $r$ es solución de la ecuación, o si $r$ está muy cercano a $x_2$, el método se detiene."
   ]
  },
  {
   "cell_type": "markdown",
   "metadata": {
    "kernel": "Python 3"
   },
   "source": [
    "<h3><strong>b) Valores Iniciales</strong></h3>"
   ]
  },
  {
   "cell_type": "markdown",
   "metadata": {
    "kernel": "Python 3"
   },
   "source": [
    "Considerando una función $f(x)$ utilizar los valores $x_0$, $x_1$ y $x_2$ dados."
   ]
  },
  {
   "cell_type": "markdown",
   "metadata": {
    "kernel": "Python 3"
   },
   "source": [
    "<h3><strong>c) Ventajas y Desvantajas</strong></h3>"
   ]
  },
  {
   "cell_type": "markdown",
   "metadata": {
    "kernel": "Python 3"
   },
   "source": [
    "<p><span style=\"text-decoration: underline;\"><span style=\"text-decoration: underline;\"><strong>Ventajas:</strong></span></span></p>\n",
    "<p>&nbsp; &nbsp; &nbsp; &nbsp; &nbsp;<span style=\"text-decoration: underline;\">1-</span> Por medio de este método se pueden encontrar tanto raíces reales como complejas.</p>\n",
    "<p><span style=\"text-decoration: underline;\"><strong>Desventajas:</strong></span></p>\n",
    "<p>&nbsp; &nbsp; &nbsp; &nbsp; &nbsp;<span style=\"text-decoration: underline;\">1-</span> En cada iteración se descarta una posible raíz de la parábola sin conocer la naturaleza de la misma. </p>"
   ]
  },
  {
   "cell_type": "markdown",
   "metadata": {
    "kernel": "Python 3"
   },
   "source": [
    "<h3><strong>d) Pasos del m&eacute;todo (Pseudoc&oacute;digo)</strong></h3>"
   ]
  },
  {
   "cell_type": "markdown",
   "metadata": {
    "kernel": "Python 3"
   },
   "source": [
    "Iniciar def muller(f, x0, x1, x2, _iter, maxIter); si aun no llega al numero maximo de iteraciones entonces: div = ((x0 - x2) * (x1 - x2) * (x0 - x1)). Si para calcular a y b la divisiones no son cero entonces enviar los valores actuales de x2 y _iter, si no entonces porcede a calcular a, b y c:\n",
    "a = ((((x1 - x2)*(f(x0) - f(x2)) - (x0 - x2)*(f(x1) - f(x2))) / div))\n",
    "b = ((((x0 - x2)^2)*(f(x1) - f(x2)) - ((x1 - x2)^2)*(f(x0) - f(x2))) / (div))\n",
    "c = f(x2)\n",
    "disc = (b^2) - (4*a*c))\n",
    "Si el discriminante es menor que cero entonces enviar un mensaje de error, si no entonces procede a calcular el valor de r: div2 = b + b*(math.sqrt(abs(disc))), r = x2 - ((2*c) / (div2)) y proceder a llamar la funcion con los valores actualizados de x0, x1, x2. Finalmente mostar el resultado x2."
   ]
  },
  {
   "cell_type": "markdown",
   "metadata": {
    "kernel": "Python 3"
   },
   "source": [
    "<h3><strong>e) C&oacute;digo en GNU Octave</strong></h3>"
   ]
  },
  {
   "cell_type": "code",
   "execution_count": null,
   "metadata": {
    "kernel": "octave"
   },
   "outputs": [],
   "source": [
    "clear;\n",
    "close all;\n",
    "\n",
    "%{\n",
    "    Metodo de la Muller\n",
    "    Entradas\n",
    "      @param x0: Valor inicial\n",
    "      @param x1: Valor inicial\n",
    "      @param x2: Valor inicial\n",
    "      @param tol: Tolerancia\n",
    "      @param f: funcion a la cual se le aplicara el algoritmo\n",
    "    Salidas\n",
    "      @return x2: valor aproximado de r\n",
    "      @return _iter: iteraciones necesarias para aproximar r\n",
    "%}\n",
    "\n",
    "function [x2, _iter] = muller(f, x0, x1, x2, tol)\n",
    "  _iter = 0;\n",
    "  % Repetir hasta que el % de error sea menor que la tolerancia\n",
    "  while ((abs((x2 - x1) / (x2))) > tol)\n",
    "    div = ((x0 - x2) * (x1 - x2) * (x0 -x1));\n",
    "    % Condicion de no realizar division por cero\n",
    "    if (div == 0)\n",
    "      disp(\"Error: division por cero\");\n",
    "      return;\n",
    "    else\n",
    "      % Encontrar los valores de a , b y c segun las ecuaciones\n",
    "      a = ((((x1 - x2)*(f(x0) - f(x2)) - (x0 - x2)*(f(x1) - f(x2))) / div));\n",
    "      b = ((((x0 - x2)**2)*(f(x1) - f(x2)) - ((x1 - x2)**2)*(f(x0) - f(x2))) / (div));\n",
    "      c = f(x2);\n",
    "      disc = (b^2) - (4*a*c);\n",
    "      % Un discriminante menor que cero generaria resultados complejos que no se abarcan en el codigo\n",
    "      if (disc < 0)\n",
    "        disp(\"El discriminante es menor que cero por lo que no hay solucion real\");\n",
    "        return;\n",
    "      % Encontrar el valor de r\n",
    "      else\n",
    "        div2 = b + b*(sqrt(abs(disc)));\n",
    "        r = x2 - ((2*c) / (div2));\n",
    "        _iter = _iter + 1;\n",
    "        % Actualizar los valores de x0, x1, x2\n",
    "        x0 = x1;\n",
    "        x1 = x2;\n",
    "        x2 = r;\n",
    "      endif\n",
    "    endif\n",
    "  endwhile\n",
    "  return;\n",
    "endfunction\n",
    "\n",
    "% Main\n",
    "% Valores iniciales\n",
    "x0 = 2;\n",
    "x1 = 2.2;\n",
    "x2 = 1.8;\n",
    "% Tolerancia\n",
    "tol = 0.00000000000001\n",
    "% Funcion a la cual se le aplicara el metodo\n",
    "func = @(x) sin(x) - x/2;\n",
    "% Llamado de la funcion\n",
    "[x2, _iter] = muller (func, x0, x1, x2, tol);\n",
    "printf('r = %f\\nIteraciones = %i', x2, _iter);"
   ]
  },
  {
   "cell_type": "markdown",
   "metadata": {
    "kernel": "Python 3"
   },
   "source": [
    "<h3><strong>f) C&oacute;digo en Python</strong></h3>"
   ]
  },
  {
   "cell_type": "code",
   "execution_count": 5,
   "metadata": {
    "kernel": "Python 3"
   },
   "outputs": [],
   "source": [
    "#Metodo de Muller\n",
    "#Entradas:\n",
    "    #f: es la funcion a analizar\n",
    "    #x0: valor inicial\n",
    "    #x1: valor inicial\n",
    "    #x2: valor inicial\n",
    "    #_iter: iteracion inicial\n",
    "    #maxIter: numero de iteraciones maximas\n",
    "#Salidas:\n",
    "    #r: es la solucion, valor aproximado de x\n",
    "    #_iter: es el numero de iteraciones\n",
    "\n",
    "\n",
    "import math\n",
    "import numpy as np\n",
    "\n",
    "def muller(f, x0, x1, x2, _iter, maxIter):\n",
    "    # Si aun no llega al numero maximo de iteraciones\n",
    "    if (_iter < maxIter):\n",
    "        div = ((x0 - x2) * (x1 - x2) * (x0 - x1))\n",
    "        # Si para calcular a y b la divisiones no son cero\n",
    "        if (div == 0):\n",
    "            #print(\"Error: Division por cero\")\n",
    "            return x2, _iter\n",
    "        # Entonces porcede a calcular a, b y c\n",
    "        else:\n",
    "            a = ((((x1 - x2)*(f(x0) - f(x2)) - (x0 - x2)*(f(x1) - f(x2))) / div))\n",
    "            b = ((((x0 - x2)**2)*(f(x1) - f(x2)) - ((x1 - x2)**2)*(f(x0) - f(x2))) / (div))\n",
    "            c = f(x2)\n",
    "            disc = ((pow(b,2)) - (4*a*c))\n",
    "\n",
    "            # Si el discriminante es menor que cero\n",
    "            if(disc < 0):\n",
    "                print(\"Error: No hay solucion real\")\n",
    "                return x2, _iter\n",
    "            # Si no entonces procede a calcular el valor de r\n",
    "            else:\n",
    "                div2 = b + b*(math.sqrt(abs(disc)))\n",
    "                r = x2 - ((2*c) / (div2))\n",
    "                _iter += 1\n",
    "                return muller(f, x1, x2, r, _iter, maxIter)\n",
    "    else:\n",
    "        return x2, _iter"
   ]
  },
  {
   "cell_type": "markdown",
   "metadata": {
    "kernel": "Python 3"
   },
   "source": [
    "<h3><strong>g) Ejemplo Num&eacute;rico</strong></h3>"
   ]
  },
  {
   "cell_type": "code",
   "execution_count": 4,
   "metadata": {
    "kernel": "Python 3"
   },
   "outputs": [
    {
     "name": "stdout",
     "output_type": "stream",
     "text": [
      "r = 1.895494267033981\n",
      "Iteraciones = 17\n"
     ]
    }
   ],
   "source": [
    "#Prueba\n",
    "\n",
    "if __name__ == '__main__':\n",
    "    # Valores iniciales\n",
    "    x0 = 2\n",
    "    x1 = 2.2\n",
    "    x2 = 1.8\n",
    "    # Iteraciones\n",
    "    _iter = 0\n",
    "    maxIter = 50\n",
    "    #Funcion a la cual se le aplica el metodo\n",
    "    func = lambda x: (np.sin(x)) - (x/2)\n",
    "    # Llamado de la funcion\n",
    "    r, _iter = muller(func, x0, x1, x2, _iter, maxIter)\n",
    "    print('r = {}\\nIteraciones = {}'.format(r, _iter))"
   ]
  }
 ],
 "metadata": {
  "kernelspec": {
   "display_name": "SoS",
   "language": "sos",
   "name": "sos"
  },
  "language_info": {
   "codemirror_mode": "sos",
   "file_extension": ".sos",
   "mimetype": "text/x-sos",
   "name": "sos",
   "nbconvert_exporter": "sos_notebook.converter.SoS_Exporter",
   "pygments_lexer": "sos"
  },
  "sos": {
   "kernels": [
    [
     "Python 3",
     "python3",
     "python3",
     "",
     {
      "name": "ipython",
      "version": 3
     }
    ],
    [
     "octave",
     "octave",
     "octave",
     "",
     ""
    ]
   ],
   "panel": {
    "displayed": true,
    "height": 0
   },
   "version": "0.21.7"
  }
 },
 "nbformat": 4,
 "nbformat_minor": 2
}
