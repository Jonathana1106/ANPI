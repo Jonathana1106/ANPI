{
 "cells": [
  {
   "cell_type": "markdown",
   "metadata": {
    "kernel": "SoS"
   },
   "source": [
    "<div style=\"text-align: center;\" role=\"presentation\">\n",
    "<h1 role=\"presentation\"><strong><span role=\"presentation\">An&aacute;lisis Num&eacute;rico para Ingenier&iacute;a - I Semestre 2020</span></strong></h1>"
   ]
  },
  {
   "cell_type": "markdown",
   "metadata": {
    "kernel": "SoS"
   },
   "source": [
    "<h1 style=\"text-align: center;\"><span style=\"color: #0000ff;\">Examen Programado #1</span></h1>"
   ]
  },
  {
   "cell_type": "markdown",
   "metadata": {
    "kernel": "SoS"
   },
   "source": [
    "<h3><span style=\"text-decoration: underline;\">Nombre:</span>&nbsp;Jonathan Guzm&aacute;n Araya</h3>\n",
    "<h3><span style=\"text-decoration: underline;\">Carnet:</span>&nbsp;2013041216</h3>"
   ]
  },
  {
   "cell_type": "markdown",
   "metadata": {
    "kernel": "SoS"
   },
   "source": [
    "<a id='steffenson'></a>\n",
    "<h2><span style=\"color: #993300;\"><span style=\"text-decoration: underline;\"><strong>Pregunta 1:</strong> M&eacute;todo de Newton-Steffensen de Tercer Orden</span></span></h2>"
   ]
  },
  {
   "cell_type": "markdown",
   "metadata": {
    "kernel": "SoS"
   },
   "source": [
    "<h3><strong>a) C&oacute;digo en GNU Octave</strong></h3>"
   ]
  },
  {
   "cell_type": "markdown",
   "metadata": {
    "kernel": "SoS"
   },
   "source": [
    "<a id='steffenson'></a>\n",
    "<h2><span style=\"color: #993300;\"><span style=\"text-decoration: underline;\"><strong>Pregunta 2:</strong> Algoritmo de Thomas</span></span></h2>"
   ]
  },
  {
   "cell_type": "markdown",
   "metadata": {
    "kernel": "SoS"
   },
   "source": [
    "<h3><strong>a) C&oacute;digo en GNU Python</strong></h3>"
   ]
  },
  {
   "cell_type": "code",
   "execution_count": null,
   "metadata": {
    "kernel": "Python 3"
   },
   "outputs": [],
   "source": [
    "#Creacion de los vectores que a, b, c que son la tridiagonal de la matriz A.\n",
    "a = [1]*100\n",
    "b = [5]*100\n",
    "c = [1]*100\n",
    "#Creacion del vector d solucion.\n",
    "d = [0]*100\n",
    "i = 0\n",
    "n = 99\n",
    "while i <= n:\n",
    "    if i == 0 or i == 99:\n",
    "        d[i] = -12\n",
    "        i = i + 1\n",
    "    else:\n",
    "        d[i] = -14\n",
    "        i = i + 1\n",
    "\n",
    "        \n",
    "import numpy as np\n",
    "\n",
    "\"\"\" Solución de un sistema lineal de ecuaciones algebraicas con unamatriz\n",
    "    de coeficientes de tres diagonales usando el algoritmo de Thomas.\n",
    "\n",
    "    Entradas:\n",
    "        a (matriz): una matriz que contiene una diagonal inferior (no se utiliza a [0]).\n",
    "        b (matriz): una matriz que contiene la diagonal principal.\n",
    "        c (matriz): una matriz que contiene una diagonal inferior (no se utiliza c [-1]).\n",
    "        d (matriz): lado derecho del sistema de ecuacion matricial.\n",
    "    Salida:\n",
    "        x (matriz): matriz que contiene la solución del sistema.    \n",
    "\"\"\"\n",
    "\n",
    "def MTAT(a, b, c, d):\n",
    "    n = len(b)\n",
    "    x = np.zeros(n, dtype=int)\n",
    "    \n",
    "    #Primer paso:\n",
    "    \n",
    "    for i in range(1, n):\n",
    "        q = a[i]/b[i-1]\n",
    "        b[i] = b[i] - c[i-1]*q\n",
    "        d[i] = d[i] - d[i-1]*q\n",
    "    \n",
    "    #Solucion del sistema:\n",
    "    \n",
    "    q = d[n-1]/b[n-1]\n",
    "    x[n-1] = q\n",
    "    \n",
    "    for i in range(n-2, -1, -1):\n",
    "        q = (d[i]-c[i]*q)/b[i]\n",
    "        x[i] = q\n",
    "    \n",
    "    return x"
   ]
  },
  {
   "cell_type": "code",
   "execution_count": null,
   "metadata": {
    "kernel": "Python 3"
   },
   "outputs": [],
   "source": [
    "resultado = MTAT(a, b, c, d)\n",
    "return resultado"
   ]
  }
 ],
 "metadata": {
  "kernelspec": {
   "display_name": "SoS",
   "language": "sos",
   "name": "sos"
  },
  "language_info": {
   "codemirror_mode": "sos",
   "file_extension": ".sos",
   "mimetype": "text/x-sos",
   "name": "sos",
   "nbconvert_exporter": "sos_notebook.converter.SoS_Exporter",
   "pygments_lexer": "sos"
  },
  "sos": {
   "kernels": [
    [
     "Python 3",
     "python3",
     "python3",
     "",
     ""
    ]
   ],
   "panel": {
    "displayed": true,
    "height": 0
   },
   "version": "0.21.7"
  }
 },
 "nbformat": 4,
 "nbformat_minor": 2
}
